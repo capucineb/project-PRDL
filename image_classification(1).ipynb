{
  "nbformat": 4,
  "nbformat_minor": 0,
  "metadata": {
    "colab": {
      "name": "image classification.ipynb",
      "version": "0.3.2",
      "provenance": [],
      "collapsed_sections": [
        "wiUqBsaGRMHA"
      ],
      "toc_visible": true
    },
    "kernelspec": {
      "name": "python3",
      "display_name": "Python 3"
    }
  },
  "cells": [
    {
      "metadata": {
        "id": "hD6mwnxIZ2bn",
        "colab_type": "text"
      },
      "cell_type": "markdown",
      "source": [
        "# We want to classify colored images into 10 classes. \n"
      ]
    },
    {
      "metadata": {
        "id": "lw6BsnsZhOXE",
        "colab_type": "text"
      },
      "cell_type": "markdown",
      "source": [
        "## installations"
      ]
    },
    {
      "metadata": {
        "id": "ILa0zt7Efd7j",
        "colab_type": "code",
        "outputId": "042700a2-1858-41a5-a2db-bb1d9e2ada8c",
        "colab": {
          "base_uri": "https://localhost:8080/",
          "height": 35
        }
      },
      "cell_type": "code",
      "source": [
        "from google.colab import drive\n",
        "drive.mount('/content/drive')"
      ],
      "execution_count": 1,
      "outputs": [
        {
          "output_type": "stream",
          "text": [
            "Drive already mounted at /content/drive; to attempt to forcibly remount, call drive.mount(\"/content/drive\", force_remount=True).\n"
          ],
          "name": "stdout"
        }
      ]
    },
    {
      "metadata": {
        "id": "T7fEO3hzXAVD",
        "colab_type": "code",
        "colab": {}
      },
      "cell_type": "code",
      "source": [
        "#https://keras.io/\n",
        "!pip install -q keras"
      ],
      "execution_count": 0,
      "outputs": []
    },
    {
      "metadata": {
        "id": "y2FPIINghNdQ",
        "colab_type": "text"
      },
      "cell_type": "markdown",
      "source": [
        ""
      ]
    },
    {
      "metadata": {
        "id": "1e4EFiDTbXyy",
        "colab_type": "code",
        "outputId": "fc080d30-e03a-47fd-c59f-85aa78ba9982",
        "colab": {
          "base_uri": "https://localhost:8080/",
          "height": 733
        }
      },
      "cell_type": "code",
      "source": [
        "import tensorflow as tf\n",
        "import keras\n",
        "\n",
        "import matplotlib\n",
        "matplotlib.use('Agg')\n",
        "import matplotlib.pyplot as plt\n",
        "\n",
        "\n",
        "from keras.models import Model, Sequential\n",
        "from keras.layers import Input, Dense, Flatten, Activation, Dropout\n",
        "from keras.layers import Conv2D, MaxPooling2D, BatchNormalization,Convolution2D\n",
        "from keras.layers import UpSampling2D, Reshape\n",
        "from keras.layers import Conv2DTranspose\n",
        "from keras.layers.advanced_activations import LeakyReLU\n",
        "from keras.optimizers import SGD, Adam\n",
        "from keras.utils import to_categorical\n",
        "\n",
        "import numpy as np\n",
        "from keras.callbacks import TensorBoard\n",
        "\n"
      ],
      "execution_count": 3,
      "outputs": [
        {
          "output_type": "stream",
          "text": [
            "Using TensorFlow backend.\n",
            "/usr/local/lib/python3.6/dist-packages/ipykernel_launcher.py:5: UserWarning: \n",
            "This call to matplotlib.use() has no effect because the backend has already\n",
            "been chosen; matplotlib.use() must be called *before* pylab, matplotlib.pyplot,\n",
            "or matplotlib.backends is imported for the first time.\n",
            "\n",
            "The backend was *originally* set to 'module://ipykernel.pylab.backend_inline' by the following code:\n",
            "  File \"/usr/lib/python3.6/runpy.py\", line 193, in _run_module_as_main\n",
            "    \"__main__\", mod_spec)\n",
            "  File \"/usr/lib/python3.6/runpy.py\", line 85, in _run_code\n",
            "    exec(code, run_globals)\n",
            "  File \"/usr/local/lib/python3.6/dist-packages/ipykernel_launcher.py\", line 16, in <module>\n",
            "    app.launch_new_instance()\n",
            "  File \"/usr/local/lib/python3.6/dist-packages/traitlets/config/application.py\", line 657, in launch_instance\n",
            "    app.initialize(argv)\n",
            "  File \"<decorator-gen-121>\", line 2, in initialize\n",
            "  File \"/usr/local/lib/python3.6/dist-packages/traitlets/config/application.py\", line 87, in catch_config_error\n",
            "    return method(app, *args, **kwargs)\n",
            "  File \"/usr/local/lib/python3.6/dist-packages/ipykernel/kernelapp.py\", line 462, in initialize\n",
            "    self.init_gui_pylab()\n",
            "  File \"/usr/local/lib/python3.6/dist-packages/ipykernel/kernelapp.py\", line 403, in init_gui_pylab\n",
            "    InteractiveShellApp.init_gui_pylab(self)\n",
            "  File \"/usr/local/lib/python3.6/dist-packages/IPython/core/shellapp.py\", line 213, in init_gui_pylab\n",
            "    r = enable(key)\n",
            "  File \"/usr/local/lib/python3.6/dist-packages/IPython/core/interactiveshell.py\", line 2950, in enable_matplotlib\n",
            "    pt.activate_matplotlib(backend)\n",
            "  File \"/usr/local/lib/python3.6/dist-packages/IPython/core/pylabtools.py\", line 309, in activate_matplotlib\n",
            "    matplotlib.pyplot.switch_backend(backend)\n",
            "  File \"/usr/local/lib/python3.6/dist-packages/matplotlib/pyplot.py\", line 232, in switch_backend\n",
            "    matplotlib.use(newbackend, warn=False, force=True)\n",
            "  File \"/usr/local/lib/python3.6/dist-packages/matplotlib/__init__.py\", line 1305, in use\n",
            "    reload(sys.modules['matplotlib.backends'])\n",
            "  File \"/usr/lib/python3.6/importlib/__init__.py\", line 166, in reload\n",
            "    _bootstrap._exec(spec, module)\n",
            "  File \"/usr/local/lib/python3.6/dist-packages/matplotlib/backends/__init__.py\", line 14, in <module>\n",
            "    line for line in traceback.format_stack()\n",
            "\n",
            "\n",
            "  \"\"\"\n"
          ],
          "name": "stderr"
        }
      ]
    },
    {
      "metadata": {
        "id": "0uGQLpo5HSQ-",
        "colab_type": "text"
      },
      "cell_type": "markdown",
      "source": [
        "###Import the data"
      ]
    },
    {
      "metadata": {
        "id": "VWVdHjShXY-U",
        "colab_type": "code",
        "colab": {}
      },
      "cell_type": "code",
      "source": [
        "from keras.datasets import cifar10\n",
        "\n",
        "(x_train, y_train), (x_test, y_test) = cifar10.load_data()"
      ],
      "execution_count": 0,
      "outputs": []
    },
    {
      "metadata": {
        "id": "Pb7p2tT2I113",
        "colab_type": "text"
      },
      "cell_type": "markdown",
      "source": [
        ""
      ]
    },
    {
      "metadata": {
        "id": "wreIpGApkOXv",
        "colab_type": "code",
        "outputId": "8480d84a-5ecb-4ea8-d486-f7828a7e67a7",
        "colab": {
          "base_uri": "https://localhost:8080/",
          "height": 35
        }
      },
      "cell_type": "code",
      "source": [
        "x_train[0][0][0]"
      ],
      "execution_count": 0,
      "outputs": [
        {
          "output_type": "execute_result",
          "data": {
            "text/plain": [
              "array([59, 62, 63], dtype=uint8)"
            ]
          },
          "metadata": {
            "tags": []
          },
          "execution_count": 4
        }
      ]
    },
    {
      "metadata": {
        "id": "qXzPiUMMMkNo",
        "colab_type": "text"
      },
      "cell_type": "markdown",
      "source": [
        "## Explore the data"
      ]
    },
    {
      "metadata": {
        "id": "Aei-krQwMmMf",
        "colab_type": "code",
        "outputId": "3e381805-7c66-47af-e870-77820bc9789e",
        "colab": {
          "base_uri": "https://localhost:8080/",
          "height": 365
        }
      },
      "cell_type": "code",
      "source": [
        "sample_id = 7000\n",
        "plt.imshow(x_train [sample_id])"
      ],
      "execution_count": 0,
      "outputs": [
        {
          "output_type": "execute_result",
          "data": {
            "text/plain": [
              "<matplotlib.image.AxesImage at 0x7f476b56c860>"
            ]
          },
          "metadata": {
            "tags": []
          },
          "execution_count": 46
        },
        {
          "output_type": "display_data",
          "data": {
            "image/png": "[encoded data removed]",
            "text/plain": [
              "<matplotlib.figure.Figure at 0x7f476b7621d0>"
            ]
          },
          "metadata": {
            "tags": []
          }
        }
      ]
    },
    {
      "metadata": {
        "id": "6vWjLjSGYfFa",
        "colab_type": "text"
      },
      "cell_type": "markdown",
      "source": [
        "We have 50000 images in color of shape 32x32 pixels. There is one layer by color RGB.\n",
        "Each pixel can take a value between 0 and 255."
      ]
    },
    {
      "metadata": {
        "id": "Hf3dPr9KXupe",
        "colab_type": "code",
        "outputId": "31ae73cc-9bae-4b4f-b79c-42e1b6dced9f",
        "colab": {
          "base_uri": "https://localhost:8080/",
          "height": 53
        }
      },
      "cell_type": "code",
      "source": [
        "print(x_train.shape) \n",
        "print(y_train.shape)"
      ],
      "execution_count": 0,
      "outputs": [
        {
          "output_type": "stream",
          "text": [
            "(50000, 32, 32, 3)\n",
            "(50000, 1)\n"
          ],
          "name": "stdout"
        }
      ]
    },
    {
      "metadata": {
        "id": "AaLugr8zavNb",
        "colab_type": "text"
      },
      "cell_type": "markdown",
      "source": [
        "y_train[i] contain the class of the image in x_train[i]"
      ]
    },
    {
      "metadata": {
        "id": "eLLbshnxZyGr",
        "colab_type": "code",
        "outputId": "4da751da-c85b-4a6c-da45-4638e5b336d8",
        "colab": {
          "base_uri": "https://localhost:8080/",
          "height": 35
        }
      },
      "cell_type": "code",
      "source": [
        "min(y_train)"
      ],
      "execution_count": 0,
      "outputs": [
        {
          "output_type": "execute_result",
          "data": {
            "text/plain": [
              "array([9], dtype=uint8)"
            ]
          },
          "metadata": {
            "tags": []
          },
          "execution_count": 10
        }
      ]
    },
    {
      "metadata": {
        "id": "vWgj87dJc8Fz",
        "colab_type": "code",
        "outputId": "b8df3781-ea08-4ec9-c34c-fc03f0cf9ca8",
        "colab": {
          "base_uri": "https://localhost:8080/",
          "height": 35
        }
      },
      "cell_type": "code",
      "source": [
        "max(y_train)"
      ],
      "execution_count": 0,
      "outputs": [
        {
          "output_type": "execute_result",
          "data": {
            "text/plain": [
              "array([0], dtype=uint8)"
            ]
          },
          "metadata": {
            "tags": []
          },
          "execution_count": 11
        }
      ]
    },
    {
      "metadata": {
        "id": "NGzRqUpXdseS",
        "colab_type": "code",
        "outputId": "1c3ad759-f19a-49f7-8e72-9d3e2b8cb796",
        "colab": {
          "base_uri": "https://localhost:8080/",
          "height": 35
        }
      },
      "cell_type": "code",
      "source": [
        "(y_train[1][0]==9)"
      ],
      "execution_count": 0,
      "outputs": [
        {
          "output_type": "execute_result",
          "data": {
            "text/plain": [
              "True"
            ]
          },
          "metadata": {
            "tags": []
          },
          "execution_count": 19
        }
      ]
    },
    {
      "metadata": {
        "id": "CLf73EisdFK4",
        "colab_type": "text"
      },
      "cell_type": "markdown",
      "source": [
        "We have ten classes with value between 0 and 9"
      ]
    },
    {
      "metadata": {
        "id": "STYlI_VpcvAH",
        "colab_type": "text"
      },
      "cell_type": "markdown",
      "source": [
        "Let's print one image of each class"
      ]
    },
    {
      "metadata": {
        "id": "0RnwZZLCcuWB",
        "colab_type": "code",
        "outputId": "851b51db-6116-4dec-cc11-5818960badec",
        "colab": {
          "base_uri": "https://localhost:8080/",
          "height": 461
        }
      },
      "cell_type": "code",
      "source": [
        "img_index=[]\n",
        "for i in range (0,10):\n",
        "  j=0\n",
        "  while(y_train[j][0]!=i):\n",
        "    j=j+1\n",
        "  img_index.append(j)\n",
        "\n",
        "fig=plt.figure(figsize=(16, 8))  \n",
        "columns = 5\n",
        "rows = 2\n",
        "for i in range(1, columns*rows +1):\n",
        "    img = x_train[img_index[i-1]]\n",
        "    fig.add_subplot(rows, columns, i)\n",
        "    plt.imshow(img)\n",
        "plt.show()"
      ],
      "execution_count": 0,
      "outputs": [
        {
          "output_type": "display_data",
          "data": {
            "image/png": "[encoded data removed]",
            "text/plain": [
              "<matplotlib.figure.Figure at 0x7f476aeb7d68>"
            ]
          },
          "metadata": {
            "tags": []
          }
        }
      ]
    },
    {
      "metadata": {
        "id": "wfWsYtQ0MPcT",
        "colab_type": "code",
        "colab": {}
      },
      "cell_type": "code",
      "source": [
        "names=['airplane', 'automobile', 'bird', 'cat', 'deer', 'dog', 'frog', 'horse', 'ship', 'truck']"
      ],
      "execution_count": 0,
      "outputs": []
    },
    {
      "metadata": {
        "id": "qNMXN_mfNTq4",
        "colab_type": "code",
        "outputId": "0a1c239a-2fce-4231-fa02-dcc5d397cf5d",
        "colab": {
          "base_uri": "https://localhost:8080/",
          "height": 35
        }
      },
      "cell_type": "code",
      "source": [
        "x_test.shape"
      ],
      "execution_count": 0,
      "outputs": [
        {
          "output_type": "execute_result",
          "data": {
            "text/plain": [
              "(10000, 32, 32, 3)"
            ]
          },
          "metadata": {
            "tags": []
          },
          "execution_count": 8
        }
      ]
    },
    {
      "metadata": {
        "id": "jaq2YZDga5vM",
        "colab_type": "text"
      },
      "cell_type": "markdown",
      "source": [
        "  ## Data processing"
      ]
    },
    {
      "metadata": {
        "id": "BPVUHEVTY1jC",
        "colab_type": "text"
      },
      "cell_type": "markdown",
      "source": [
        "We center the values between -1 and 1"
      ]
    },
    {
      "metadata": {
        "id": "Y_fO1p2oYteA",
        "colab_type": "code",
        "colab": {}
      },
      "cell_type": "code",
      "source": [
        "x_train = (x_train - 127.5) / 127.5\n",
        "x_test = (x_test - 127.5) / 127.5"
      ],
      "execution_count": 0,
      "outputs": []
    },
    {
      "metadata": {
        "id": "EWo0FEVVbEfR",
        "colab_type": "text"
      },
      "cell_type": "markdown",
      "source": [
        "Then we transform the y_train in 1 hot vectors. Since there is 10 classes, the vectors will be of length 10."
      ]
    },
    {
      "metadata": {
        "id": "FtVO0ToZYtgj",
        "colab_type": "code",
        "colab": {}
      },
      "cell_type": "code",
      "source": [
        "y_train=to_categorical(y_train,10)\n",
        "y_test=to_categorical(y_test,10)\n"
      ],
      "execution_count": 0,
      "outputs": []
    },
    {
      "metadata": {
        "id": "R3kUIO_2jrTR",
        "colab_type": "text"
      },
      "cell_type": "markdown",
      "source": [
        "###verify processing"
      ]
    },
    {
      "metadata": {
        "id": "5txLs9CcKmgq",
        "colab_type": "code",
        "outputId": "e7253cc7-eb1b-4e3e-860e-1c5e591a2d91",
        "colab": {
          "base_uri": "https://localhost:8080/",
          "height": 35
        }
      },
      "cell_type": "code",
      "source": [
        "y_train[1]"
      ],
      "execution_count": 0,
      "outputs": [
        {
          "output_type": "execute_result",
          "data": {
            "text/plain": [
              "array([0., 0., 0., 0., 0., 0., 0., 0., 0., 1.], dtype=float32)"
            ]
          },
          "metadata": {
            "tags": []
          },
          "execution_count": 42
        }
      ]
    },
    {
      "metadata": {
        "id": "zIdHVxPpbB0N",
        "colab_type": "code",
        "outputId": "3e9787ba-96e5-421c-89ee-3af14fdea753",
        "colab": {
          "base_uri": "https://localhost:8080/",
          "height": 35
        }
      },
      "cell_type": "code",
      "source": [
        "y_train.shape "
      ],
      "execution_count": 0,
      "outputs": [
        {
          "output_type": "execute_result",
          "data": {
            "text/plain": [
              "(50000, 10)"
            ]
          },
          "metadata": {
            "tags": []
          },
          "execution_count": 17
        }
      ]
    },
    {
      "metadata": {
        "id": "BwouHUAW_MT7",
        "colab_type": "code",
        "outputId": "00b82e4b-5861-4809-98fc-6b006566c86a",
        "colab": {
          "base_uri": "https://localhost:8080/",
          "height": 35
        }
      },
      "cell_type": "code",
      "source": [
        "x_train[0][0][0]"
      ],
      "execution_count": 0,
      "outputs": [
        {
          "output_type": "execute_result",
          "data": {
            "text/plain": [
              "array([-0.5372549 , -0.51372549, -0.50588235])"
            ]
          },
          "metadata": {
            "tags": []
          },
          "execution_count": 9
        }
      ]
    },
    {
      "metadata": {
        "id": "jYH_biSSsRv6",
        "colab_type": "text"
      },
      "cell_type": "markdown",
      "source": [
        "#Multilayer perceptron"
      ]
    },
    {
      "metadata": {
        "id": "NoB_nDL0ndOZ",
        "colab_type": "text"
      },
      "cell_type": "markdown",
      "source": [
        "Multilayer perceptrons only use dense and dropout layers. Dense layers are used to fully connect the neurons, then dropout layers are used to select only the most relevant parameters and drop some connections. Every layer has to be activated with an activation function. Here I chose to use the relu function for all the hidden layers and the softmax function in the last layer. The softmax function is used to get values between 0 and 1, giving the probability for the image to belong to each class. Only use dense and droupout layers."
      ]
    },
    {
      "metadata": {
        "id": "iCVpGaODmN_S",
        "colab_type": "code",
        "colab": {}
      },
      "cell_type": "code",
      "source": [
        "graph = tf.get_default_graph()\n",
        "model1 = Sequential() \n",
        "#model.add(Flatten(input_shape=(32,32,3))) #chaque donne est une image de taille 32*32 en RGB\n",
        "model1.add(Flatten(input_shape=(32,32,3)))\n",
        "\n",
        "model1.add(Dense(512))         #On commence avec 512 neurones\n",
        "model1.add(Activation('relu'))\n",
        "model1.add(Dropout(0.2))\t\t\t\t#on allege le modele en supprimant 20% des connexions du reseau de neurone\n",
        "\n",
        "model1.add(Dense(256))\n",
        "model1.add(Activation('relu'))\n",
        "model1.add(Dropout(0.2))\n",
        "\n",
        "\n",
        "model1.add(Dense(10))\t\t\t\t\t#il y a 10 classes, il faut 10 neurones en sortie\n",
        "model1.add(Activation('softmax'))"
      ],
      "execution_count": 0,
      "outputs": []
    },
    {
      "metadata": {
        "id": "5Iv_e82JXDWD",
        "colab_type": "code",
        "outputId": "099d3618-6bd0-4bbb-d037-222cda448742",
        "colab": {
          "base_uri": "https://localhost:8080/",
          "height": 472
        }
      },
      "cell_type": "code",
      "source": [
        "model1.summary()"
      ],
      "execution_count": 0,
      "outputs": [
        {
          "output_type": "stream",
          "text": [
            "_________________________________________________________________\n",
            "Layer (type)                 Output Shape              Param #   \n",
            "=================================================================\n",
            "flatten_1 (Flatten)          (None, 3072)              0         \n",
            "_________________________________________________________________\n",
            "dense_1 (Dense)              (None, 512)               1573376   \n",
            "_________________________________________________________________\n",
            "activation_1 (Activation)    (None, 512)               0         \n",
            "_________________________________________________________________\n",
            "dropout_1 (Dropout)          (None, 512)               0         \n",
            "_________________________________________________________________\n",
            "dense_2 (Dense)              (None, 256)               131328    \n",
            "_________________________________________________________________\n",
            "activation_2 (Activation)    (None, 256)               0         \n",
            "_________________________________________________________________\n",
            "dropout_2 (Dropout)          (None, 256)               0         \n",
            "_________________________________________________________________\n",
            "dense_3 (Dense)              (None, 10)                2570      \n",
            "_________________________________________________________________\n",
            "activation_3 (Activation)    (None, 10)                0         \n",
            "=================================================================\n",
            "Total params: 1,707,274\n",
            "Trainable params: 1,707,274\n",
            "Non-trainable params: 0\n",
            "_________________________________________________________________\n"
          ],
          "name": "stdout"
        }
      ]
    },
    {
      "metadata": {
        "id": "9DTuMzfrXKv8",
        "colab_type": "code",
        "colab": {}
      },
      "cell_type": "code",
      "source": [
        "validation_data=(x_test, y_test)\n"
      ],
      "execution_count": 0,
      "outputs": []
    },
    {
      "metadata": {
        "id": "V9kOKLSgmZ1Q",
        "colab_type": "code",
        "outputId": "8f5019af-9dd3-431d-d30f-49679f249709",
        "colab": {
          "base_uri": "https://localhost:8080/",
          "height": 1873
        }
      },
      "cell_type": "code",
      "source": [
        "model1.compile(optimizer='sgd', loss='categorical_crossentropy', metrics=['accuracy']) #loss = categorical et pas binary car on a plus que 2 classes.#\n",
        "model1.fit(x_train, y_train, batch_size=250, epochs=50, validation_data=(x_test, y_test)) \n"
      ],
      "execution_count": 0,
      "outputs": [
        {
          "output_type": "stream",
          "text": [
            "Train on 50000 samples, validate on 10000 samples\n",
            "Epoch 1/50\n",
            "50000/50000 [==============================] - 13s 270us/step - loss: 2.0499 - acc: 0.2642 - val_loss: 1.8366 - val_acc: 0.3640\n",
            "Epoch 2/50\n",
            "50000/50000 [==============================] - 13s 261us/step - loss: 1.8468 - acc: 0.3455 - val_loss: 1.7312 - val_acc: 0.3957\n",
            "Epoch 3/50\n",
            "50000/50000 [==============================] - 13s 260us/step - loss: 1.7644 - acc: 0.3798 - val_loss: 1.6709 - val_acc: 0.4202\n",
            "Epoch 4/50\n",
            "50000/50000 [==============================] - 13s 259us/step - loss: 1.7120 - acc: 0.3962 - val_loss: 1.6295 - val_acc: 0.4356\n",
            "Epoch 5/50\n",
            "50000/50000 [==============================] - 13s 261us/step - loss: 1.6727 - acc: 0.4122 - val_loss: 1.5980 - val_acc: 0.4473\n",
            "Epoch 6/50\n",
            "50000/50000 [==============================] - 13s 263us/step - loss: 1.6432 - acc: 0.4234 - val_loss: 1.5738 - val_acc: 0.4547\n",
            "Epoch 7/50\n",
            "50000/50000 [==============================] - 13s 255us/step - loss: 1.6190 - acc: 0.4327 - val_loss: 1.5523 - val_acc: 0.4598\n",
            "Epoch 8/50\n",
            "50000/50000 [==============================] - 13s 256us/step - loss: 1.5963 - acc: 0.4381 - val_loss: 1.5342 - val_acc: 0.4640\n",
            "Epoch 9/50\n",
            "50000/50000 [==============================] - 13s 255us/step - loss: 1.5708 - acc: 0.4499 - val_loss: 1.5188 - val_acc: 0.4698\n",
            "Epoch 10/50\n",
            "50000/50000 [==============================] - 13s 255us/step - loss: 1.5536 - acc: 0.4574 - val_loss: 1.5030 - val_acc: 0.4761\n",
            "Epoch 11/50\n",
            "50000/50000 [==============================] - 13s 257us/step - loss: 1.5339 - acc: 0.4606 - val_loss: 1.4892 - val_acc: 0.4810\n",
            "Epoch 12/50\n",
            "50000/50000 [==============================] - 13s 258us/step - loss: 1.5192 - acc: 0.4690 - val_loss: 1.4781 - val_acc: 0.4840\n",
            "Epoch 13/50\n",
            "50000/50000 [==============================] - 13s 257us/step - loss: 1.5044 - acc: 0.4752 - val_loss: 1.4670 - val_acc: 0.4869\n",
            "Epoch 14/50\n",
            "50000/50000 [==============================] - 13s 262us/step - loss: 1.4905 - acc: 0.4787 - val_loss: 1.4548 - val_acc: 0.4880\n",
            "Epoch 15/50\n",
            "50000/50000 [==============================] - 14s 273us/step - loss: 1.4760 - acc: 0.4839 - val_loss: 1.4456 - val_acc: 0.4912\n",
            "Epoch 16/50\n",
            "50000/50000 [==============================] - 13s 261us/step - loss: 1.4632 - acc: 0.4901 - val_loss: 1.4363 - val_acc: 0.4958\n",
            "Epoch 17/50\n",
            "50000/50000 [==============================] - 13s 260us/step - loss: 1.4494 - acc: 0.4938 - val_loss: 1.4264 - val_acc: 0.4992\n",
            "Epoch 18/50\n",
            "50000/50000 [==============================] - 13s 258us/step - loss: 1.4366 - acc: 0.4974 - val_loss: 1.4175 - val_acc: 0.5026\n",
            "Epoch 19/50\n",
            "50000/50000 [==============================] - 13s 257us/step - loss: 1.4250 - acc: 0.4999 - val_loss: 1.4109 - val_acc: 0.5093\n",
            "Epoch 20/50\n",
            "50000/50000 [==============================] - 13s 268us/step - loss: 1.4157 - acc: 0.5075 - val_loss: 1.4033 - val_acc: 0.5083\n",
            "Epoch 21/50\n",
            "50000/50000 [==============================] - 13s 265us/step - loss: 1.4020 - acc: 0.5122 - val_loss: 1.3955 - val_acc: 0.5090\n",
            "Epoch 22/50\n",
            "50000/50000 [==============================] - 13s 260us/step - loss: 1.3941 - acc: 0.5142 - val_loss: 1.3892 - val_acc: 0.5140\n",
            "Epoch 23/50\n",
            "50000/50000 [==============================] - 13s 260us/step - loss: 1.3836 - acc: 0.5176 - val_loss: 1.3839 - val_acc: 0.5108\n",
            "Epoch 24/50\n",
            "50000/50000 [==============================] - 13s 260us/step - loss: 1.3755 - acc: 0.5211 - val_loss: 1.3765 - val_acc: 0.5162\n",
            "Epoch 25/50\n",
            "50000/50000 [==============================] - 13s 259us/step - loss: 1.3684 - acc: 0.5231 - val_loss: 1.3714 - val_acc: 0.5158\n",
            "Epoch 26/50\n",
            "50000/50000 [==============================] - 13s 260us/step - loss: 1.3530 - acc: 0.5282 - val_loss: 1.3638 - val_acc: 0.5187\n",
            "Epoch 27/50\n",
            "50000/50000 [==============================] - 13s 257us/step - loss: 1.3449 - acc: 0.5283 - val_loss: 1.3586 - val_acc: 0.5225\n",
            "Epoch 28/50\n",
            "50000/50000 [==============================] - 13s 261us/step - loss: 1.3319 - acc: 0.5357 - val_loss: 1.3565 - val_acc: 0.5226\n",
            "Epoch 29/50\n",
            "50000/50000 [==============================] - 13s 262us/step - loss: 1.3241 - acc: 0.5376 - val_loss: 1.3492 - val_acc: 0.5235\n",
            "Epoch 30/50\n",
            "50000/50000 [==============================] - 13s 259us/step - loss: 1.3163 - acc: 0.5435 - val_loss: 1.3469 - val_acc: 0.5249\n",
            "Epoch 31/50\n",
            "50000/50000 [==============================] - 13s 260us/step - loss: 1.3110 - acc: 0.5434 - val_loss: 1.3428 - val_acc: 0.5272\n",
            "Epoch 32/50\n",
            "50000/50000 [==============================] - 13s 261us/step - loss: 1.3025 - acc: 0.5450 - val_loss: 1.3382 - val_acc: 0.5295\n",
            "Epoch 33/50\n",
            "50000/50000 [==============================] - 13s 260us/step - loss: 1.2901 - acc: 0.5508 - val_loss: 1.3311 - val_acc: 0.5312\n",
            "Epoch 34/50\n",
            "50000/50000 [==============================] - 13s 263us/step - loss: 1.2839 - acc: 0.5511 - val_loss: 1.3298 - val_acc: 0.5313\n",
            "Epoch 35/50\n",
            "50000/50000 [==============================] - 13s 260us/step - loss: 1.2715 - acc: 0.5588 - val_loss: 1.3242 - val_acc: 0.5340\n",
            "Epoch 36/50\n",
            "50000/50000 [==============================] - 13s 257us/step - loss: 1.2666 - acc: 0.5598 - val_loss: 1.3225 - val_acc: 0.5348\n",
            "Epoch 37/50\n",
            "50000/50000 [==============================] - 13s 255us/step - loss: 1.2577 - acc: 0.5621 - val_loss: 1.3168 - val_acc: 0.5394\n",
            "Epoch 38/50\n",
            "50000/50000 [==============================] - 13s 261us/step - loss: 1.2501 - acc: 0.5647 - val_loss: 1.3152 - val_acc: 0.5379\n",
            "Epoch 39/50\n",
            "50000/50000 [==============================] - 13s 264us/step - loss: 1.2418 - acc: 0.5689 - val_loss: 1.3127 - val_acc: 0.5383\n",
            "Epoch 40/50\n",
            "50000/50000 [==============================] - 13s 258us/step - loss: 1.2405 - acc: 0.5683 - val_loss: 1.3097 - val_acc: 0.5391\n",
            "Epoch 41/50\n",
            "50000/50000 [==============================] - 13s 262us/step - loss: 1.2284 - acc: 0.5723 - val_loss: 1.3071 - val_acc: 0.5409\n",
            "Epoch 42/50\n",
            "50000/50000 [==============================] - 13s 262us/step - loss: 1.2201 - acc: 0.5758 - val_loss: 1.3026 - val_acc: 0.5424\n",
            "Epoch 43/50\n",
            "50000/50000 [==============================] - 13s 262us/step - loss: 1.2123 - acc: 0.5773 - val_loss: 1.3002 - val_acc: 0.5434\n",
            "Epoch 44/50\n",
            "50000/50000 [==============================] - 14s 273us/step - loss: 1.2072 - acc: 0.5787 - val_loss: 1.2969 - val_acc: 0.5436\n",
            "Epoch 45/50\n",
            "50000/50000 [==============================] - 13s 261us/step - loss: 1.1951 - acc: 0.5826 - val_loss: 1.2965 - val_acc: 0.5452\n",
            "Epoch 46/50\n",
            "50000/50000 [==============================] - 13s 257us/step - loss: 1.1937 - acc: 0.5834 - val_loss: 1.2924 - val_acc: 0.5469\n",
            "Epoch 47/50\n",
            "50000/50000 [==============================] - 13s 256us/step - loss: 1.1829 - acc: 0.5859 - val_loss: 1.2910 - val_acc: 0.5432\n",
            "Epoch 48/50\n",
            "50000/50000 [==============================] - 13s 258us/step - loss: 1.1772 - acc: 0.5899 - val_loss: 1.2873 - val_acc: 0.5465\n",
            "Epoch 49/50\n",
            "50000/50000 [==============================] - 13s 261us/step - loss: 1.1693 - acc: 0.5926 - val_loss: 1.2879 - val_acc: 0.5476\n",
            "Epoch 50/50\n",
            "50000/50000 [==============================] - 13s 260us/step - loss: 1.1628 - acc: 0.5954 - val_loss: 1.2847 - val_acc: 0.5496\n"
          ],
          "name": "stdout"
        },
        {
          "output_type": "execute_result",
          "data": {
            "text/plain": [
              "<keras.callbacks.History at 0x7f7aedbe7128>"
            ]
          },
          "metadata": {
            "tags": []
          },
          "execution_count": 10
        }
      ]
    },
    {
      "metadata": {
        "id": "-hnzofk0qGUE",
        "colab_type": "code",
        "outputId": "8b0b7b22-d060-4ee0-84ba-337d86e08e58",
        "colab": {
          "base_uri": "https://localhost:8080/",
          "height": 35
        }
      },
      "cell_type": "code",
      "source": [
        "model1.predict_classes(x_test)"
      ],
      "execution_count": 0,
      "outputs": [
        {
          "output_type": "execute_result",
          "data": {
            "text/plain": [
              "array([3, 9, 8, ..., 3, 5, 7])"
            ]
          },
          "metadata": {
            "tags": []
          },
          "execution_count": 14
        }
      ]
    },
    {
      "metadata": {
        "id": "tX2fdm_8te7g",
        "colab_type": "code",
        "outputId": "46f2530f-7fae-4ee2-f95d-41cd45db3ba9",
        "colab": {
          "base_uri": "https://localhost:8080/",
          "height": 35
        }
      },
      "cell_type": "code",
      "source": [
        "np.argmax( y_test ,axis=1)"
      ],
      "execution_count": 0,
      "outputs": [
        {
          "output_type": "execute_result",
          "data": {
            "text/plain": [
              "array([3, 8, 8, ..., 5, 1, 7])"
            ]
          },
          "metadata": {
            "tags": []
          },
          "execution_count": 15
        }
      ]
    },
    {
      "metadata": {
        "id": "oR-jLYFmsaFz",
        "colab_type": "text"
      },
      "cell_type": "markdown",
      "source": [
        "#Convolutional Network"
      ]
    },
    {
      "metadata": {
        "id": "2pySm55nEtP5",
        "colab_type": "text"
      },
      "cell_type": "markdown",
      "source": [
        "https://github.com/keras-team/keras/blob/master/examples/cifar10_cnn.py"
      ]
    },
    {
      "metadata": {
        "id": "4yGFYKQA8xMl",
        "colab_type": "code",
        "outputId": "c106aab2-4118-4ba7-b288-b8e1bbcd168d",
        "colab": {
          "base_uri": "https://localhost:8080/",
          "height": 800
        }
      },
      "cell_type": "code",
      "source": [
        "model2 = Sequential()\n",
        "model2.add(Conv2D(32, (3, 3), padding='same',\n",
        "                 input_shape=x_train.shape[1:]))\n",
        "model2.add(Activation('relu'))\n",
        "model2.add(Conv2D(32, (3, 3)))\n",
        "model2.add(Activation('relu'))\n",
        "model2.add(MaxPooling2D(pool_size=(2, 2)))\n",
        "model2.add(Dropout(0.25))\n",
        "\n",
        "model2.add(Conv2D(64, (3, 3), padding='same'))\n",
        "model2.add(Activation('relu'))\n",
        "model2.add(Conv2D(64, (3, 3)))\n",
        "model2.add(Activation('relu'))\n",
        "model2.add(MaxPooling2D(pool_size=(2, 2)))\n",
        "model2.add(Dropout(0.25))\n",
        "\n",
        "model2.add(Flatten())\n",
        "model2.add(Dense(512))\n",
        "model2.add(Activation('relu'))\n",
        "model2.add(Dropout(0.5))\n",
        "model2.add(Dense(10))\n",
        "model2.add(Activation('softmax'))\n",
        "\n",
        "\n",
        "model2.summary()\n"
      ],
      "execution_count": 0,
      "outputs": [
        {
          "output_type": "stream",
          "text": [
            "_________________________________________________________________\n",
            "Layer (type)                 Output Shape              Param #   \n",
            "=================================================================\n",
            "conv2d_1 (Conv2D)            (None, 32, 32, 32)        896       \n",
            "_________________________________________________________________\n",
            "activation_1 (Activation)    (None, 32, 32, 32)        0         \n",
            "_________________________________________________________________\n",
            "conv2d_2 (Conv2D)            (None, 30, 30, 32)        9248      \n",
            "_________________________________________________________________\n",
            "activation_2 (Activation)    (None, 30, 30, 32)        0         \n",
            "_________________________________________________________________\n",
            "max_pooling2d_1 (MaxPooling2 (None, 15, 15, 32)        0         \n",
            "_________________________________________________________________\n",
            "dropout_1 (Dropout)          (None, 15, 15, 32)        0         \n",
            "_________________________________________________________________\n",
            "conv2d_3 (Conv2D)            (None, 15, 15, 64)        18496     \n",
            "_________________________________________________________________\n",
            "activation_3 (Activation)    (None, 15, 15, 64)        0         \n",
            "_________________________________________________________________\n",
            "conv2d_4 (Conv2D)            (None, 13, 13, 64)        36928     \n",
            "_________________________________________________________________\n",
            "activation_4 (Activation)    (None, 13, 13, 64)        0         \n",
            "_________________________________________________________________\n",
            "max_pooling2d_2 (MaxPooling2 (None, 6, 6, 64)          0         \n",
            "_________________________________________________________________\n",
            "dropout_2 (Dropout)          (None, 6, 6, 64)          0         \n",
            "_________________________________________________________________\n",
            "flatten_1 (Flatten)          (None, 2304)              0         \n",
            "_________________________________________________________________\n",
            "dense_1 (Dense)              (None, 512)               1180160   \n",
            "_________________________________________________________________\n",
            "activation_5 (Activation)    (None, 512)               0         \n",
            "_________________________________________________________________\n",
            "dropout_3 (Dropout)          (None, 512)               0         \n",
            "_________________________________________________________________\n",
            "dense_2 (Dense)              (None, 10)                5130      \n",
            "_________________________________________________________________\n",
            "activation_6 (Activation)    (None, 10)                0         \n",
            "=================================================================\n",
            "Total params: 1,250,858\n",
            "Trainable params: 1,250,858\n",
            "Non-trainable params: 0\n",
            "_________________________________________________________________\n"
          ],
          "name": "stdout"
        }
      ]
    },
    {
      "metadata": {
        "id": "qYam7IkZFt74",
        "colab_type": "code",
        "colab": {}
      },
      "cell_type": "code",
      "source": [
        "model2.compile(optimizer='sgd', loss='categorical_crossentropy', metrics=['accuracy']) \n"
      ],
      "execution_count": 0,
      "outputs": []
    },
    {
      "metadata": {
        "id": "-kZDro8eFxI6",
        "colab_type": "code",
        "outputId": "8da93777-d6fa-4365-a99c-24601b7e9781",
        "colab": {
          "base_uri": "https://localhost:8080/",
          "height": 1873
        }
      },
      "cell_type": "code",
      "source": [
        "model2.fit(x_train, y_train, batch_size=32, epochs=50, validation_data=(x_test, y_test), shuffle=True,verbose=1) "
      ],
      "execution_count": 0,
      "outputs": [
        {
          "output_type": "stream",
          "text": [
            "Train on 50000 samples, validate on 10000 samples\n",
            "Epoch 1/50\n",
            "50000/50000 [==============================] - 292s 6ms/step - loss: 1.9787 - acc: 0.2698 - val_loss: 1.6476 - val_acc: 0.4067\n",
            "Epoch 2/50\n",
            "50000/50000 [==============================] - 294s 6ms/step - loss: 1.6064 - acc: 0.4097 - val_loss: 1.4269 - val_acc: 0.4905\n",
            "Epoch 3/50\n",
            "50000/50000 [==============================] - 295s 6ms/step - loss: 1.4541 - acc: 0.4720 - val_loss: 1.3976 - val_acc: 0.5103\n",
            "Epoch 4/50\n",
            "50000/50000 [==============================] - 292s 6ms/step - loss: 1.3584 - acc: 0.5096 - val_loss: 1.2418 - val_acc: 0.5579\n",
            "Epoch 5/50\n",
            "50000/50000 [==============================] - 290s 6ms/step - loss: 1.2889 - acc: 0.5380 - val_loss: 1.1591 - val_acc: 0.5902\n",
            "Epoch 6/50\n",
            "50000/50000 [==============================] - 287s 6ms/step - loss: 1.2265 - acc: 0.5629 - val_loss: 1.1274 - val_acc: 0.6053\n",
            "Epoch 7/50\n",
            "50000/50000 [==============================] - 293s 6ms/step - loss: 1.1640 - acc: 0.5881 - val_loss: 1.0648 - val_acc: 0.6219\n",
            "Epoch 8/50\n",
            "50000/50000 [==============================] - 293s 6ms/step - loss: 1.1157 - acc: 0.6032 - val_loss: 1.0052 - val_acc: 0.6546\n",
            "Epoch 9/50\n",
            "50000/50000 [==============================] - 293s 6ms/step - loss: 1.0649 - acc: 0.6218 - val_loss: 1.0006 - val_acc: 0.6523\n",
            "Epoch 10/50\n",
            "50000/50000 [==============================] - 288s 6ms/step - loss: 1.0189 - acc: 0.6394 - val_loss: 0.9574 - val_acc: 0.6691\n",
            "Epoch 11/50\n",
            "50000/50000 [==============================] - 289s 6ms/step - loss: 0.9837 - acc: 0.6533 - val_loss: 0.8964 - val_acc: 0.6874\n",
            "Epoch 12/50\n",
            "50000/50000 [==============================] - 285s 6ms/step - loss: 0.9446 - acc: 0.6672 - val_loss: 0.8953 - val_acc: 0.6882\n",
            "Epoch 13/50\n",
            "50000/50000 [==============================] - 288s 6ms/step - loss: 0.9148 - acc: 0.6751 - val_loss: 0.8334 - val_acc: 0.7126\n",
            "Epoch 14/50\n",
            "50000/50000 [==============================] - 292s 6ms/step - loss: 0.8825 - acc: 0.6880 - val_loss: 0.8314 - val_acc: 0.7151\n",
            "Epoch 15/50\n",
            "50000/50000 [==============================] - 300s 6ms/step - loss: 0.8574 - acc: 0.6955 - val_loss: 0.7842 - val_acc: 0.7285\n",
            "Epoch 16/50\n",
            "50000/50000 [==============================] - 290s 6ms/step - loss: 0.8368 - acc: 0.7052 - val_loss: 0.7895 - val_acc: 0.7270\n",
            "Epoch 17/50\n",
            "50000/50000 [==============================] - 291s 6ms/step - loss: 0.8128 - acc: 0.7126 - val_loss: 0.7777 - val_acc: 0.7311\n",
            "Epoch 18/50\n",
            "50000/50000 [==============================] - 291s 6ms/step - loss: 0.7859 - acc: 0.7244 - val_loss: 0.7474 - val_acc: 0.7410\n",
            "Epoch 19/50\n",
            "50000/50000 [==============================] - 290s 6ms/step - loss: 0.7606 - acc: 0.7330 - val_loss: 0.7337 - val_acc: 0.7406\n",
            "Epoch 20/50\n",
            "50000/50000 [==============================] - 292s 6ms/step - loss: 0.7503 - acc: 0.7362 - val_loss: 0.7864 - val_acc: 0.7247\n",
            "Epoch 21/50\n",
            "50000/50000 [==============================] - 288s 6ms/step - loss: 0.7221 - acc: 0.7430 - val_loss: 0.7094 - val_acc: 0.7541\n",
            "Epoch 22/50\n",
            "50000/50000 [==============================] - 288s 6ms/step - loss: 0.7046 - acc: 0.7509 - val_loss: 0.6922 - val_acc: 0.7599\n",
            "Epoch 23/50\n",
            "50000/50000 [==============================] - 292s 6ms/step - loss: 0.6915 - acc: 0.7563 - val_loss: 0.6835 - val_acc: 0.7592\n",
            "Epoch 24/50\n",
            "50000/50000 [==============================] - 306s 6ms/step - loss: 0.6740 - acc: 0.7637 - val_loss: 0.6737 - val_acc: 0.7636\n",
            "Epoch 25/50\n",
            "50000/50000 [==============================] - 293s 6ms/step - loss: 0.6569 - acc: 0.7685 - val_loss: 0.6698 - val_acc: 0.7700\n",
            "Epoch 26/50\n",
            "50000/50000 [==============================] - 294s 6ms/step - loss: 0.6418 - acc: 0.7738 - val_loss: 0.6747 - val_acc: 0.7660\n",
            "Epoch 27/50\n",
            "50000/50000 [==============================] - 294s 6ms/step - loss: 0.6308 - acc: 0.7756 - val_loss: 0.6655 - val_acc: 0.7696\n",
            "Epoch 28/50\n",
            "50000/50000 [==============================] - 294s 6ms/step - loss: 0.6135 - acc: 0.7826 - val_loss: 0.6458 - val_acc: 0.7784\n",
            "Epoch 29/50\n",
            "50000/50000 [==============================] - 297s 6ms/step - loss: 0.6021 - acc: 0.7868 - val_loss: 0.6564 - val_acc: 0.7769\n",
            "Epoch 30/50\n",
            "50000/50000 [==============================] - 299s 6ms/step - loss: 0.5897 - acc: 0.7898 - val_loss: 0.6381 - val_acc: 0.7797\n",
            "Epoch 31/50\n",
            "50000/50000 [==============================] - 297s 6ms/step - loss: 0.5793 - acc: 0.7945 - val_loss: 0.6627 - val_acc: 0.7755\n",
            "Epoch 32/50\n",
            "50000/50000 [==============================] - 303s 6ms/step - loss: 0.5646 - acc: 0.7996 - val_loss: 0.6282 - val_acc: 0.7819\n",
            "Epoch 33/50\n",
            "50000/50000 [==============================] - 300s 6ms/step - loss: 0.5539 - acc: 0.8041 - val_loss: 0.6413 - val_acc: 0.7818\n",
            "Epoch 34/50\n",
            "50000/50000 [==============================] - 299s 6ms/step - loss: 0.5402 - acc: 0.8084 - val_loss: 0.6477 - val_acc: 0.7788\n",
            "Epoch 35/50\n",
            "50000/50000 [==============================] - 298s 6ms/step - loss: 0.5324 - acc: 0.8118 - val_loss: 0.6333 - val_acc: 0.7827\n",
            "Epoch 36/50\n",
            "50000/50000 [==============================] - 297s 6ms/step - loss: 0.5204 - acc: 0.8147 - val_loss: 0.6317 - val_acc: 0.7856\n",
            "Epoch 37/50\n",
            "50000/50000 [==============================] - 295s 6ms/step - loss: 0.5111 - acc: 0.8163 - val_loss: 0.6220 - val_acc: 0.7887\n",
            "Epoch 38/50\n",
            "50000/50000 [==============================] - 290s 6ms/step - loss: 0.5005 - acc: 0.8211 - val_loss: 0.6163 - val_acc: 0.7912\n",
            "Epoch 39/50\n",
            "50000/50000 [==============================] - 290s 6ms/step - loss: 0.4844 - acc: 0.8269 - val_loss: 0.6229 - val_acc: 0.7863\n",
            "Epoch 40/50\n",
            "50000/50000 [==============================] - 295s 6ms/step - loss: 0.4816 - acc: 0.8264 - val_loss: 0.6124 - val_acc: 0.7894\n",
            "Epoch 41/50\n",
            "50000/50000 [==============================] - 296s 6ms/step - loss: 0.4697 - acc: 0.8316 - val_loss: 0.6188 - val_acc: 0.7906\n",
            "Epoch 42/50\n",
            "50000/50000 [==============================] - 292s 6ms/step - loss: 0.4628 - acc: 0.8338 - val_loss: 0.6157 - val_acc: 0.7928\n",
            "Epoch 43/50\n",
            "50000/50000 [==============================] - 294s 6ms/step - loss: 0.4475 - acc: 0.8405 - val_loss: 0.6462 - val_acc: 0.7885\n",
            "Epoch 44/50\n",
            "50000/50000 [==============================] - 296s 6ms/step - loss: 0.4430 - acc: 0.8403 - val_loss: 0.6359 - val_acc: 0.7858\n",
            "Epoch 45/50\n",
            "50000/50000 [==============================] - 295s 6ms/step - loss: 0.4380 - acc: 0.8426 - val_loss: 0.6339 - val_acc: 0.7911\n",
            "Epoch 46/50\n",
            "50000/50000 [==============================] - 297s 6ms/step - loss: 0.4274 - acc: 0.8474 - val_loss: 0.6486 - val_acc: 0.7859\n",
            "Epoch 47/50\n",
            "50000/50000 [==============================] - 300s 6ms/step - loss: 0.4192 - acc: 0.8479 - val_loss: 0.6179 - val_acc: 0.7945\n",
            "Epoch 48/50\n",
            "50000/50000 [==============================] - 297s 6ms/step - loss: 0.4166 - acc: 0.8510 - val_loss: 0.6217 - val_acc: 0.7929\n",
            "Epoch 49/50\n",
            "50000/50000 [==============================] - 292s 6ms/step - loss: 0.4011 - acc: 0.8545 - val_loss: 0.6356 - val_acc: 0.7892\n",
            "Epoch 50/50\n",
            "50000/50000 [==============================] - 291s 6ms/step - loss: 0.4032 - acc: 0.8548 - val_loss: 0.6225 - val_acc: 0.7926\n"
          ],
          "name": "stdout"
        },
        {
          "output_type": "execute_result",
          "data": {
            "text/plain": [
              "<keras.callbacks.History at 0x7f53f64cfa90>"
            ]
          },
          "metadata": {
            "tags": []
          },
          "execution_count": 12
        }
      ]
    },
    {
      "metadata": {
        "id": "Is1HUnREG_Bz",
        "colab_type": "text"
      },
      "cell_type": "markdown",
      "source": [
        "The computation takes a lot of time but we have a 79% accuracy on the validation dataset"
      ]
    },
    {
      "metadata": {
        "id": "wiUqBsaGRMHA",
        "colab_type": "text"
      },
      "cell_type": "markdown",
      "source": [
        "# Using tensorflow DataFlow graph"
      ]
    },
    {
      "metadata": {
        "id": "4upKTarlRPdS",
        "colab_type": "text"
      },
      "cell_type": "markdown",
      "source": [
        "I found this process in google: \n",
        "https://towardsdatascience.com/cifar-10-image-classification-in-tensorflow-5b501f7dc77c"
      ]
    },
    {
      "metadata": {
        "id": "VZAtbXGRRXzm",
        "colab_type": "text"
      },
      "cell_type": "markdown",
      "source": [
        "first define the dataflow graph, then create a TensorFlow session to run parts of the graph. This process is used id parallel programing"
      ]
    },
    {
      "metadata": {
        "id": "mcQ7olYZ9crC",
        "colab_type": "text"
      },
      "cell_type": "markdown",
      "source": [
        "###Getting started with tensorflow"
      ]
    },
    {
      "metadata": {
        "id": "cSdTLDGI9b1D",
        "colab_type": "code",
        "colab": {}
      },
      "cell_type": "code",
      "source": [
        "#inputs\n",
        "pi=pi = tf.constant(3.14, name=\"pi\")\n",
        "r = tf.placeholder(tf.float32, name=\"r\")\n",
        "    \n",
        "a = pi * r * r"
      ],
      "execution_count": 0,
      "outputs": []
    },
    {
      "metadata": {
        "id": "XD44iZYU9r0U",
        "colab_type": "code",
        "outputId": "09486422-05a4-460d-fd67-c36af8260a35",
        "colab": {
          "base_uri": "https://localhost:8080/",
          "height": 55
        }
      },
      "cell_type": "code",
      "source": [
        "#define the graph\n",
        "graph = tf.get_default_graph()\n",
        "print(graph.get_operations())"
      ],
      "execution_count": 0,
      "outputs": [
        {
          "output_type": "stream",
          "text": [
            "[<tf.Operation 'x' type=Placeholder>, <tf.Operation 'y' type=Placeholder>, <tf.Operation 'keep_prob' type=Placeholder>, <tf.Operation 'Placeholder' type=Placeholder>, <tf.Operation 'init' type=NoOp>, <tf.Operation 'pi' type=Const>, <tf.Operation 'r' type=Placeholder>, <tf.Operation 'mul' type=Mul>, <tf.Operation 'mul_1' type=Mul>]\n"
          ],
          "name": "stdout"
        }
      ]
    },
    {
      "metadata": {
        "id": "dLwS__Yj-OyM",
        "colab_type": "text"
      },
      "cell_type": "markdown",
      "source": [
        "* To evaluate the operation a=pi*r*r, we need to create and the run a session.\n",
        "\n",
        "* You can provide values for placeholders defined earlier to the session as python dictionary where the key is your placeholder name and value can be a list."
      ]
    },
    {
      "metadata": {
        "id": "By6STHFn-N3d",
        "colab_type": "code",
        "outputId": "18e4557e-992b-4277-caf6-818a8e386663",
        "colab": {
          "base_uri": "https://localhost:8080/",
          "height": 35
        }
      },
      "cell_type": "code",
      "source": [
        "with tf.Session() as sess:# creation of sess\n",
        "  print(a.eval(feed_dict={r: 5})) #run of sess=a.eval, define the unknown variable with feed_dict={r: [5]}"
      ],
      "execution_count": 0,
      "outputs": [
        {
          "output_type": "stream",
          "text": [
            "78.5\n"
          ],
          "name": "stdout"
        }
      ]
    },
    {
      "metadata": {
        "id": "BhPFX7LqIZyb",
        "colab_type": "text"
      },
      "cell_type": "markdown",
      "source": [
        "## data load"
      ]
    },
    {
      "metadata": {
        "id": "5_moqBNlId7P",
        "colab_type": "code",
        "colab": {}
      },
      "cell_type": "code",
      "source": [
        "import pickle\n",
        "\n",
        "\n",
        "def unpickle(file):\n",
        "    import pickle\n",
        "    with open(file, 'rb') as fo:\n",
        "        dict = pickle.load(fo, encoding='bytes')\n",
        "    return dict"
      ],
      "execution_count": 0,
      "outputs": []
    },
    {
      "metadata": {
        "id": "L5sLRZe9JwY5",
        "colab_type": "code",
        "colab": {}
      },
      "cell_type": "code",
      "source": [
        "test=unpickle(\"drive/My Drive/Colab Notebooks/cifar-10-python/cifar-10-batches-py/test_batch\")\n",
        "\n",
        "batch1=unpickle(\"drive/My Drive/Colab Notebooks/cifar-10-python/cifar-10-batches-py/data_batch_1\")\n",
        "batch2=unpickle(\"drive/My Drive/Colab Notebooks/cifar-10-python/cifar-10-batches-py/data_batch_2\")\n",
        "batch3=unpickle(\"drive/My Drive/Colab Notebooks/cifar-10-python/cifar-10-batches-py/data_batch_3\")\n",
        "batch4=unpickle(\"drive/My Drive/Colab Notebooks/cifar-10-python/cifar-10-batches-py/data_batch_4\")\n",
        "batch5=unpickle(\"drive/My Drive/Colab Notebooks/cifar-10-python/cifar-10-batches-py/data_batch_5\")"
      ],
      "execution_count": 0,
      "outputs": []
    },
    {
      "metadata": {
        "id": "Of14DE0EdxS3",
        "colab_type": "code",
        "outputId": "17d91d93-2cb5-421a-ab48-fcc9b12425ac",
        "colab": {
          "base_uri": "https://localhost:8080/",
          "height": 35
        }
      },
      "cell_type": "code",
      "source": [
        "batch2[b'data'].shape"
      ],
      "execution_count": 0,
      "outputs": [
        {
          "output_type": "execute_result",
          "data": {
            "text/plain": [
              "(10000, 3072)"
            ]
          },
          "metadata": {
            "tags": []
          },
          "execution_count": 73
        }
      ]
    },
    {
      "metadata": {
        "id": "QYxpmxCrYmDk",
        "colab_type": "text"
      },
      "cell_type": "markdown",
      "source": [
        "## process data"
      ]
    },
    {
      "metadata": {
        "id": "LfyUHB_DYoGg",
        "colab_type": "code",
        "colab": {}
      },
      "cell_type": "code",
      "source": [
        "# normalize the data and one hot encode the labels\n",
        "test_data=test[b'data']\n",
        "test_data=np.reshape(test_data, (10000,32,32,3))\n",
        "test_data=(test_data -127.5) / 127.5\n",
        "\n",
        "test_labels=to_categorical(test[b'labels'],10)\n",
        "\n",
        "\n",
        "batch1_data=batch1[b'data']\n",
        "batch1_data=np.reshape(batch1_data, (10000,32,32,3))\n",
        "batch1_data=(batch1_data -127.5) / 127.5\n",
        "\n",
        "batch1_labels=to_categorical(batch1[b'labels'],10)\n",
        "\n",
        "\n",
        "batch2_data=batch2[b'data']\n",
        "batch2_data=np.reshape(batch2_data, (10000,32,32,3))\n",
        "batch2_data=(batch2_data -127.5) / 127.5\n",
        "\n",
        "batch2_labels=to_categorical(batch2[b'labels'],10)\n",
        "\n",
        "\n",
        "batch3_data=batch3[b'data']\n",
        "batch3_data=np.reshape(batch3_data, (10000,32,32,3))\n",
        "batch3_data=(batch3_data -127.5) / 127.5\n",
        "\n",
        "batch3_labels=to_categorical(batch3[b'labels'],10)\n",
        "\n",
        "\n",
        "batch4_data=batch4[b'data']\n",
        "batch4_data=np.reshape(batch4_data, (10000,32,32,3))\n",
        "batch4_data=(batch4_data -127.5) / 127.5\n",
        "\n",
        "batch4_labels=to_categorical(batch4[b'labels'],10)\n",
        "\n",
        "\n",
        "batch5_data=batch5[b'data']\n",
        "batch5_data=np.reshape(batch5_data, (10000,32,32,3))\n",
        "batch5_data=(batch5_data -127.5) / 127.5\n",
        "\n",
        "batch5_labels=to_categorical(batch5[b'labels'],10)\n",
        "\n"
      ],
      "execution_count": 0,
      "outputs": []
    },
    {
      "metadata": {
        "id": "N6u-HlwAbzZN",
        "colab_type": "code",
        "outputId": "66f4d212-a31d-43f6-a5af-fe1af148bd88",
        "colab": {
          "base_uri": "https://localhost:8080/",
          "height": 35
        }
      },
      "cell_type": "code",
      "source": [
        "test_data.shape"
      ],
      "execution_count": 0,
      "outputs": [
        {
          "output_type": "execute_result",
          "data": {
            "text/plain": [
              "(10000, 32, 32, 3)"
            ]
          },
          "metadata": {
            "tags": []
          },
          "execution_count": 67
        }
      ]
    },
    {
      "metadata": {
        "id": "8HadHZlaXzch",
        "colab_type": "text"
      },
      "cell_type": "markdown",
      "source": [
        "## define the variables"
      ]
    },
    {
      "metadata": {
        "id": "Qx05wUCRRg_F",
        "colab_type": "code",
        "colab": {}
      },
      "cell_type": "code",
      "source": [
        "#reset tensorflow graph\n",
        "tf.reset_default_graph()\n",
        "\n",
        "#define the variable\n",
        "\n",
        "#x: the input\n",
        "\n",
        "\n",
        "#color\n",
        "x = tf.placeholder(tf.float32, shape=(None, 32, 32, 3), name='x')\n",
        "\n",
        "#y: the output\n",
        "y =  tf.placeholder(tf.float32, shape=(None, 10), name='y')\n",
        "\n",
        "#the rate of nodes to keep in Dropout layers, will be use in the fully connected layers\n",
        "keep_prob = tf.placeholder(tf.float32, name='keep_prob')\n",
        "\n",
        "#Normalization parameter\n",
        "training = tf.placeholder(tf.bool)"
      ],
      "execution_count": 0,
      "outputs": []
    },
    {
      "metadata": {
        "id": "DweZu2TyU-AA",
        "colab_type": "text"
      },
      "cell_type": "markdown",
      "source": [
        "## Define the model"
      ]
    },
    {
      "metadata": {
        "id": "iNp86v2lVGlR",
        "colab_type": "text"
      },
      "cell_type": "markdown",
      "source": [
        "The entire model consists of 14 layers in total. In addition to layers below lists what techniques are applied to build the model.\n",
        "\n",
        " \n",
        "    Convolution with 64 different filters in size of (3x3)\n",
        "1. Convolution with 64 different filters in size of (3x3)\n",
        "2.    Max Pooling by 2\n",
        "    *   ReLU activation function\n",
        "    *  Batch Normalization\n",
        "3.   Convolution with 128 different filters in size of (3x3)\n",
        "4.   Max Pooling by 2\n",
        "        * ReLU activation function\n",
        "        * Batch Normalization\n",
        "5. Convolution with 256 different filters in size of (3x3)\n",
        "6. Max Pooling by 2\n",
        "     * ReLU activation function\n",
        "     *  Batch Normalization\n",
        "7. Convolution with 512 different filters in size of (3x3)\n",
        "8. Max Pooling by 2\n",
        "    * ReLU activation function\n",
        "    * Batch Normalization\n",
        "9. Flattening the 3-D output of the last convolutional operations\n",
        "10. Fully Connected Layer with 128 units\n",
        "       * Dropout\n",
        "       * Batch Normalization\n",
        "11. Fully Connected Layer with 256 units\n",
        "      *  Dropout\n",
        "      * Batch Normalization\n",
        "12. Fully Connected Layer with 512 units\n",
        "       * Dropout\n",
        "       * Batch Normalization\n",
        "13. Fully Connected Layer with 1024 units\n",
        "       * Dropout\n",
        "       * Batch Normalization\n",
        "14. Fully Connected Layer with 10 units (number of image classes)\n",
        "\n",
        "        \n",
        "\n",
        " \n"
      ]
    },
    {
      "metadata": {
        "id": "Vi4Of6_5eHw6",
        "colab_type": "text"
      },
      "cell_type": "markdown",
      "source": [
        ""
      ]
    },
    {
      "metadata": {
        "id": "qE8Qgb-ZU9Cp",
        "colab_type": "code",
        "colab": {}
      },
      "cell_type": "code",
      "source": [
        "def conv_net(x, keep_prob):\n",
        "  # shape = [filter size, filter size, number of input layers, number of output layers] stddev-> standard deviation\n",
        "  \n",
        "  # define the shape of each layer\n",
        "    conv1_filter = tf.Variable(tf.truncated_normal(shape=[3, 3, 3, 64], mean=0, stddev=0.08))\n",
        "    conv2_filter = tf.Variable(tf.truncated_normal(shape=[3, 3, 64, 128], mean=0, stddev=0.08))\n",
        "    conv3_filter = tf.Variable(tf.truncated_normal(shape=[5, 5, 128, 256], mean=0, stddev=0.08))\n",
        "    conv4_filter = tf.Variable(tf.truncated_normal(shape=[5, 5, 256, 512], mean=0, stddev=0.08))\n",
        "\n",
        "    #The stride of the sliding window for each dimension of input\n",
        "    # 1, 2\n",
        "    conv1 = tf.nn.conv2d(x, conv1_filter, strides=[1,1,1,1], padding='SAME')\n",
        "    conv1 = tf.nn.relu(conv1)\n",
        "    conv1_pool = tf.nn.max_pool(conv1, ksize=[1,2,2,1], strides=[1,2,2,1], padding='SAME')\n",
        "    conv1_bn = tf.layers.batch_normalization(conv1_pool)\n",
        "\n",
        "    # 3, 4\n",
        "    conv2 = tf.nn.conv2d(conv1_bn, conv2_filter, strides=[1,1,1,1], padding='SAME')\n",
        "    conv2 = tf.nn.relu(conv2)\n",
        "    conv2_pool = tf.nn.max_pool(conv2, ksize=[1,2,2,1], strides=[1,2,2,1], padding='SAME')    \n",
        "    conv2_bn = tf.layers.batch_normalization(conv2_pool)\n",
        "  \n",
        "    # 5, 6\n",
        "    conv3 = tf.nn.conv2d(conv2_bn, conv3_filter, strides=[1,1,1,1], padding='SAME')\n",
        "    conv3 = tf.nn.relu(conv3)\n",
        "    conv3_pool = tf.nn.max_pool(conv3, ksize=[1,2,2,1], strides=[1,2,2,1], padding='SAME')  \n",
        "    conv3_bn = tf.layers.batch_normalization(conv3_pool)\n",
        "    \n",
        "    # 7, 8\n",
        "    conv4 = tf.nn.conv2d(conv3_bn, conv4_filter, strides=[1,1,1,1], padding='SAME')\n",
        "    conv4 = tf.nn.relu(conv4)\n",
        "    conv4_pool = tf.nn.max_pool(conv4, ksize=[1,2,2,1], strides=[1,2,2,1], padding='SAME')\n",
        "    conv4_bn = tf.layers.batch_normalization(conv4_pool)\n",
        "    \n",
        "    # 9\n",
        "    flat = tf.contrib.layers.flatten(conv4_bn)  \n",
        "\n",
        "    # 10\n",
        "    full1 = tf.contrib.layers.fully_connected(inputs=flat, num_outputs=128, activation_fn=tf.nn.relu)\n",
        "    full1 = tf.nn.dropout(full1, keep_prob)\n",
        "    full1 = tf.layers.batch_normalization(full1)\n",
        "    \n",
        "    # 11\n",
        "    full2 = tf.contrib.layers.fully_connected(inputs=full1, num_outputs=256, activation_fn=tf.nn.relu)\n",
        "    full2 = tf.nn.dropout(full2, keep_prob)\n",
        "    full2 = tf.layers.batch_normalization(full2)\n",
        "    \n",
        "    # 12\n",
        "    full3 = tf.contrib.layers.fully_connected(inputs=full2, num_outputs=512, activation_fn=tf.nn.relu)\n",
        "    full3 = tf.nn.dropout(full3, keep_prob)\n",
        "    full3 = tf.layers.batch_normalization(full3)    \n",
        "    \n",
        "    # 13\n",
        "    full4 = tf.contrib.layers.fully_connected(inputs=full3, num_outputs=1024, activation_fn=tf.nn.relu)\n",
        "    full4 = tf.nn.dropout(full4, keep_prob)\n",
        "    full4 = tf.layers.batch_normalization(full4)        \n",
        "    \n",
        "    # 14\n",
        "    out = tf.contrib.layers.fully_connected(inputs=full3, num_outputs=10, activation_fn=None)\n",
        "    return out"
      ],
      "execution_count": 0,
      "outputs": []
    },
    {
      "metadata": {
        "id": "kF9tqrTUExlW",
        "colab_type": "text"
      },
      "cell_type": "markdown",
      "source": [
        "## Train the model"
      ]
    },
    {
      "metadata": {
        "id": "ZfEiTeq-E1Mg",
        "colab_type": "text"
      },
      "cell_type": "markdown",
      "source": [
        "First we choose the parameters of the training proces: epoch and batch size but also keep proba used in the model"
      ]
    },
    {
      "metadata": {
        "id": "s-open4CE0AB",
        "colab_type": "code",
        "colab": {}
      },
      "cell_type": "code",
      "source": [
        "epochs = 10\n",
        "batch_size = 128\n",
        "keep_probability = 0.7\n",
        "learning_rate = 0.001"
      ],
      "execution_count": 0,
      "outputs": []
    },
    {
      "metadata": {
        "id": "XR7Szk2eccz3",
        "colab_type": "code",
        "outputId": "0dde9454-5926-4f4a-d93e-56e2de645482",
        "colab": {
          "base_uri": "https://localhost:8080/",
          "height": 35
        }
      },
      "cell_type": "code",
      "source": [
        "x"
      ],
      "execution_count": 0,
      "outputs": [
        {
          "output_type": "execute_result",
          "data": {
            "text/plain": [
              "<tf.Tensor 'x:0' shape=(?, 32, 32, 3) dtype=float32>"
            ]
          },
          "metadata": {
            "tags": []
          },
          "execution_count": 32
        }
      ]
    },
    {
      "metadata": {
        "id": "Im7gqP5jg77X",
        "colab_type": "code",
        "colab": {}
      },
      "cell_type": "code",
      "source": [
        "\n",
        "logits = conv_net(x, keep_prob)\n",
        "model = tf.identity(logits, name='logits') # Name logits Tensor, so that can be loaded from disk after training\n",
        "\n",
        "# Loss and Optimizer\n",
        "cost = tf.reduce_mean(tf.nn.softmax_cross_entropy_with_logits(logits=logits, labels=y))\n",
        "optimizer = tf.train.AdamOptimizer(learning_rate=learning_rate).minimize(cost)\n",
        "\n",
        "# Accuracy\n",
        "correct_pred = tf.equal(tf.argmax(logits, 1), tf.argmax(y, 1))\n",
        "accuracy = tf.reduce_mean(tf.cast(correct_pred, tf.float32), name='accuracy')"
      ],
      "execution_count": 0,
      "outputs": []
    },
    {
      "metadata": {
        "id": "tZJJ0mkODgiU",
        "colab_type": "code",
        "colab": {}
      },
      "cell_type": "code",
      "source": [
        "def train_neural_network(session, optimizer, keep_probability, feature_batch, label_batch):\n",
        "    session.run(optimizer, \n",
        "                feed_dict={\n",
        "                    x: feature_batch,\n",
        "                    y: label_batch,\n",
        "                    keep_prob: keep_probability\n",
        "                })"
      ],
      "execution_count": 0,
      "outputs": []
    },
    {
      "metadata": {
        "id": "WEf5VlxzDjlB",
        "colab_type": "code",
        "colab": {}
      },
      "cell_type": "code",
      "source": [
        "def print_stats(session, feature_batch, label_batch, cost, accuracy):\n",
        "    loss = sess.run(cost, \n",
        "                    feed_dict={\n",
        "                        x: feature_batch,\n",
        "                        y: label_batch,\n",
        "                        keep_prob: 1.\n",
        "                    })\n",
        "    valid_acc = sess.run(accuracy, \n",
        "                         feed_dict={\n",
        "                             x: valid_features,\n",
        "                             y: valid_labels,\n",
        "                             keep_prob: 1.\n",
        "                         })\n",
        "    \n",
        "    print('Loss: {:>10.4f} Validation Accuracy: {:.6f}'.format(loss, valid_acc))\n",
        "\n"
      ],
      "execution_count": 0,
      "outputs": []
    },
    {
      "metadata": {
        "id": "CGXe8AWvV-rw",
        "colab_type": "code",
        "colab": {}
      },
      "cell_type": "code",
      "source": [
        "def batch_features_labels(features, labels, batch_size):\n",
        "    \"\"\"\n",
        "    Split features and labels into batches\n",
        "    \"\"\"\n",
        "    for start in range(0, len(features), batch_size):\n",
        "        end = min(start + batch_size, len(features))\n",
        "        yield features[start:end], labels[start:end]\n",
        "\n",
        "\n"
      ],
      "execution_count": 0,
      "outputs": []
    },
    {
      "metadata": {
        "id": "JbRNZck7RoA_",
        "colab_type": "text"
      },
      "cell_type": "markdown",
      "source": [
        "#### run session"
      ]
    },
    {
      "metadata": {
        "id": "NRvvf1v9hLRr",
        "colab_type": "code",
        "colab": {}
      },
      "cell_type": "code",
      "source": [
        "batches=[batch1_data,batch2_data,batch3_data,batch4_data,batch5_data]\n",
        "labels=[batch1_labels,batch2_labels,batch3_labels,batch4_labels,batch5_labels]\n",
        "\n",
        "with tf.Session() as sess:\n",
        "    # Initializing the variables\n",
        "    sess.run(tf.global_variables_initializer())\n",
        "    \n",
        "    # Training cycle\n",
        "    for epoch in range(epochs):\n",
        "        # Loop over all batches\n",
        "        for i in range(1, 6):\n",
        "          batch_features=batches[i]\n",
        "          batch_labels=labels[i]\n",
        "          \n",
        "          train_neural_network(sess, optimizer, keep_probability, batch_features, batch_labels)\n",
        "                \n",
        "          print('Epoch {:>2}, CIFAR-10 Batch {}:  '.format(epoch + 1, batch_i), end='')\n",
        "print_stats(sess, batch_features, batch_labels, cost, accuracy)\n",
        "   \n",
        "  \n",
        "\n"
      ],
      "execution_count": 0,
      "outputs": []
    },
    {
      "metadata": {
        "id": "tO1MT1_8qnVj",
        "colab_type": "text"
      },
      "cell_type": "markdown",
      "source": [
        "###NOTE"
      ]
    },
    {
      "metadata": {
        "id": "CZFcIhR6gizi",
        "colab_type": "text"
      },
      "cell_type": "markdown",
      "source": [
        "This method doesn't work. I don't get any error but the part \"run session\" always eventually stop runing after a few seconds. I did not found where the problem was, maybe my computer is not powerfull enough."
      ]
    },
    {
      "metadata": {
        "id": "9vDdWvSTwYA7",
        "colab_type": "text"
      },
      "cell_type": "markdown",
      "source": [
        "#Using PCA"
      ]
    },
    {
      "metadata": {
        "id": "EXifSyEZyL1v",
        "colab_type": "text"
      },
      "cell_type": "markdown",
      "source": [
        "https://github.com/wikiabhi/Cifar-10/blob/master/cifar10_pca.ipynb"
      ]
    },
    {
      "metadata": {
        "id": "vfAdrPd406-e",
        "colab_type": "code",
        "colab": {}
      },
      "cell_type": "code",
      "source": [
        "from sklearn.metrics import classification_report, confusion_matrix, accuracy_score\n",
        "from sklearn.model_selection import cross_val_score\n",
        "from sklearn.decomposition import PCA\n",
        "\n",
        "from sklearn import svm\n",
        "from sklearn.neighbors import KNeighborsClassifier\n",
        "from sklearn.linear_model import LogisticRegression"
      ],
      "execution_count": 0,
      "outputs": []
    },
    {
      "metadata": {
        "id": "WIBD6pFS3z2E",
        "colab_type": "text"
      },
      "cell_type": "markdown",
      "source": [
        "##Process and explore data"
      ]
    },
    {
      "metadata": {
        "id": "ognB90lk0ky8",
        "colab_type": "text"
      },
      "cell_type": "markdown",
      "source": [
        "### transforming images in one dimention vectors"
      ]
    },
    {
      "metadata": {
        "id": "jZ58m6o50pkc",
        "colab_type": "code",
        "colab": {}
      },
      "cell_type": "code",
      "source": [
        "x_train_PCA = x_train.reshape(x_train.shape[0],-1)\n",
        "x_test_PCA = x_test.reshape(x_test.shape[0], -1)"
      ],
      "execution_count": 0,
      "outputs": []
    },
    {
      "metadata": {
        "id": "S4uEGMkBiMWp",
        "colab_type": "code",
        "outputId": "cd1fdd99-225a-4718-bf39-a2e85ca276bf",
        "colab": {
          "base_uri": "https://localhost:8080/",
          "height": 35
        }
      },
      "cell_type": "code",
      "source": [
        "x_train_PCA.shape"
      ],
      "execution_count": 12,
      "outputs": [
        {
          "output_type": "execute_result",
          "data": {
            "text/plain": [
              "(50000, 3072)"
            ]
          },
          "metadata": {
            "tags": []
          },
          "execution_count": 12
        }
      ]
    },
    {
      "metadata": {
        "id": "oUNxuuWU34af",
        "colab_type": "text"
      },
      "cell_type": "markdown",
      "source": [
        "### transform labels from one hot encoding to scalar"
      ]
    },
    {
      "metadata": {
        "id": "2ihSX_mStVwL",
        "colab_type": "code",
        "colab": {}
      },
      "cell_type": "code",
      "source": [
        "def one_hot_to_scalar(matrix):\n",
        "  if matrix.shape[1]==1:\n",
        "    return matrix.flatten()\n",
        "  else:\n",
        "    matrix=matrix.tolist()\n",
        "    vector=[]\n",
        "    for i in range (0,len(matrix)):\n",
        "      vector.append(matrix[i].index(max(matrix[i])))\n",
        "    return np.asarray(vector)"
      ],
      "execution_count": 0,
      "outputs": []
    },
    {
      "metadata": {
        "id": "GpUY4MmM1pBA",
        "colab_type": "code",
        "colab": {}
      },
      "cell_type": "code",
      "source": [
        "y_train_PCA=one_hot_to_scalar(y_train)\n",
        "y_test_PCA=one_hot_to_scalar(y_test)"
      ],
      "execution_count": 0,
      "outputs": []
    },
    {
      "metadata": {
        "id": "WciyRSDbJt8t",
        "colab_type": "code",
        "colab": {
          "base_uri": "https://localhost:8080/",
          "height": 35
        },
        "outputId": "272d4f29-053e-4215-edc5-8f113279826f"
      },
      "cell_type": "code",
      "source": [
        "y_train_PCA[0]"
      ],
      "execution_count": 14,
      "outputs": [
        {
          "output_type": "execute_result",
          "data": {
            "text/plain": [
              "6"
            ]
          },
          "metadata": {
            "tags": []
          },
          "execution_count": 14
        }
      ]
    },
    {
      "metadata": {
        "id": "tgTXZsUUaTwc",
        "colab_type": "text"
      },
      "cell_type": "markdown",
      "source": [
        "### reprensent data distribution"
      ]
    },
    {
      "metadata": {
        "id": "7idbK58DIX4o",
        "colab_type": "code",
        "colab": {}
      },
      "cell_type": "code",
      "source": [
        "pca = PCA(2)  \n",
        "vect=pca.fit_transform(x_train_PCA)  "
      ],
      "execution_count": 0,
      "outputs": []
    },
    {
      "metadata": {
        "id": "RGurz_vwJCkr",
        "colab_type": "code",
        "colab": {}
      },
      "cell_type": "code",
      "source": [
        "def get_class(classe,y_train,x_train):\n",
        "  images=[]\n",
        "  for i in range(0,len(y_train)):\n",
        "    if(y_train[i]==classe):\n",
        "      images.append(x_train[i])\n",
        "  return (images)"
      ],
      "execution_count": 0,
      "outputs": []
    },
    {
      "metadata": {
        "id": "n8VDSlybJQ8t",
        "colab_type": "code",
        "colab": {}
      },
      "cell_type": "code",
      "source": [
        "x_train_ordered=[]\n",
        "for j in range (0,10):\n",
        "  x_train_ordered.append(get_class(j,y_train_PCA,vect))\n"
      ],
      "execution_count": 0,
      "outputs": []
    },
    {
      "metadata": {
        "id": "BRsjmnXzWydr",
        "colab_type": "code",
        "colab": {
          "base_uri": "https://localhost:8080/",
          "height": 35
        },
        "outputId": "b339f94b-aeb4-4f9b-cbd0-758f2afcb568"
      },
      "cell_type": "code",
      "source": [
        "x_train_ordered=np.asarray(x_train_ordered)\n",
        "x_train_ordered.shape"
      ],
      "execution_count": 52,
      "outputs": [
        {
          "output_type": "execute_result",
          "data": {
            "text/plain": [
              "(10, 5000, 2)"
            ]
          },
          "metadata": {
            "tags": []
          },
          "execution_count": 52
        }
      ]
    },
    {
      "metadata": {
        "id": "7-pSEf1xfGhq",
        "colab_type": "code",
        "colab": {
          "base_uri": "https://localhost:8080/",
          "height": 35
        },
        "outputId": "9da32e15-3088-4121-e99c-d0a14e6e6c59"
      },
      "cell_type": "code",
      "source": [
        "x_train_ordered[0].shape"
      ],
      "execution_count": 59,
      "outputs": [
        {
          "output_type": "execute_result",
          "data": {
            "text/plain": [
              "(5000, 2)"
            ]
          },
          "metadata": {
            "tags": []
          },
          "execution_count": 59
        }
      ]
    },
    {
      "metadata": {
        "id": "nmvepogWfzs_",
        "colab_type": "code",
        "colab": {
          "base_uri": "https://localhost:8080/",
          "height": 54
        },
        "outputId": "cea3155a-b59e-4159-882b-0f84c49df260"
      },
      "cell_type": "code",
      "source": [
        "x_train_ordered[0][:,1]"
      ],
      "execution_count": 62,
      "outputs": [
        {
          "output_type": "execute_result",
          "data": {
            "text/plain": [
              "array([-1511.46660966,   316.082933  ,  -845.84743375, ...,\n",
              "         -58.74672808, -1212.90483641,   374.83776575])"
            ]
          },
          "metadata": {
            "tags": []
          },
          "execution_count": 62
        }
      ]
    },
    {
      "metadata": {
        "id": "X4WU8FLFetih",
        "colab_type": "code",
        "colab": {
          "base_uri": "https://localhost:8080/",
          "height": 347
        },
        "outputId": "2425252f-4714-477d-9d42-dd371dad8d60"
      },
      "cell_type": "code",
      "source": [
        "for i in range (0,10):\n",
        "  plt.scatter(x_train_ordered[i][:,0],x_train_ordered[i][:,1])\n",
        "  \n",
        "plt.show()"
      ],
      "execution_count": 63,
      "outputs": [
        {
          "output_type": "display_data",
          "data": {
            "image/png": "[encoded data removed]",
            "text/plain": [
              "<matplotlib.figure.Figure at 0x7f70c6f28f60>"
            ]
          },
          "metadata": {
            "tags": []
          }
        }
      ]
    },
    {
      "metadata": {
        "id": "m7nA-aHRtM08",
        "colab_type": "text"
      },
      "cell_type": "markdown",
      "source": [
        "## perform PCA"
      ]
    },
    {
      "metadata": {
        "id": "kN0B5Dl8wZ2x",
        "colab_type": "code",
        "outputId": "2154bb3a-3517-4cf1-cadd-4c7fe0958c01",
        "colab": {
          "base_uri": "https://localhost:8080/",
          "height": 254
        }
      },
      "cell_type": "code",
      "source": [
        "pca = PCA()  \n",
        "pca.fit_transform(x_train_PCA)  "
      ],
      "execution_count": 0,
      "outputs": [
        {
          "output_type": "execute_result",
          "data": {
            "text/plain": [
              "array([[-1.00408120e-01,  4.28084512e-02,  2.35562435e-02, ...,\n",
              "        -1.19574561e-05, -1.82524429e-05, -5.48656315e-06],\n",
              "       [ 1.30162100e-02, -1.49010701e-02,  9.41765113e-02, ...,\n",
              "         1.70093472e-06,  9.04651588e-06, -1.20942106e-05],\n",
              "       [ 1.21258036e-01, -1.80738860e-01, -4.31940471e-02, ...,\n",
              "        -1.63858995e-05, -3.35852141e-06, -6.17207100e-06],\n",
              "       ...,\n",
              "       [ 1.10956327e-02, -1.77921902e-01, -6.17905691e-03, ...,\n",
              "        -5.96614225e-06,  2.92442899e-05,  2.27114085e-05],\n",
              "       [ 1.78320141e-01, -5.29565122e-02,  8.73129044e-02, ...,\n",
              "        -7.32700913e-06,  1.16858504e-05, -2.62062833e-05],\n",
              "       [ 6.57693561e-02, -1.85755056e-02, -6.97405956e-02, ...,\n",
              "         1.51838158e-05,  3.77041524e-06, -4.40009767e-07]])"
            ]
          },
          "metadata": {
            "tags": []
          },
          "execution_count": 11
        }
      ]
    },
    {
      "metadata": {
        "id": "s--EzErzyZwV",
        "colab_type": "code",
        "outputId": "9c912aa9-98b6-4d15-e620-d65d457bc13f",
        "colab": {
          "base_uri": "https://localhost:8080/",
          "height": 35
        }
      },
      "cell_type": "code",
      "source": [
        "explained_variance = pca.explained_variance_ratio_ \n"
      ],
      "execution_count": 0,
      "outputs": [
        {
          "output_type": "execute_result",
          "data": {
            "text/plain": [
              "1.0000000000000013"
            ]
          },
          "metadata": {
            "tags": []
          },
          "execution_count": 122
        }
      ]
    },
    {
      "metadata": {
        "id": "VVtsj3wLxA-7",
        "colab_type": "code",
        "outputId": "e30b8aeb-6120-4e55-9736-c1a142495963",
        "colab": {
          "base_uri": "https://localhost:8080/",
          "height": 35
        }
      },
      "cell_type": "code",
      "source": [
        "#We want to take vectors that explains 99% of variance\n",
        "\n",
        "k = 0\n",
        "total = sum(explained_variance)\n",
        "sum_variance = 0\n",
        "\n",
        "while(sum_variance / total < 0.99):\n",
        "    sum_variance = sum_variance + explained_variance[k]\n",
        "    k += 1\n",
        "    \n",
        "k\n"
      ],
      "execution_count": 0,
      "outputs": [
        {
          "output_type": "execute_result",
          "data": {
            "text/plain": [
              "658"
            ]
          },
          "metadata": {
            "tags": []
          },
          "execution_count": 169
        }
      ]
    },
    {
      "metadata": {
        "id": "m_f3jHlAzpge",
        "colab_type": "text"
      },
      "cell_type": "markdown",
      "source": [
        "Then we apply the PCA model to the data"
      ]
    },
    {
      "metadata": {
        "id": "FQL_xE8vzi2d",
        "colab_type": "code",
        "colab": {}
      },
      "cell_type": "code",
      "source": [
        "pca = PCA(n_components=k, whiten=True) \n",
        "X_train_PCA = pca.fit_transform(x_train_PCA)  \n",
        "X_test_PCA = pca.fit_transform(x_test_PCA)  "
      ],
      "execution_count": 0,
      "outputs": []
    },
    {
      "metadata": {
        "id": "Zptt1zKQ0KOH",
        "colab_type": "text"
      },
      "cell_type": "markdown",
      "source": [
        "## Predict class"
      ]
    },
    {
      "metadata": {
        "id": "DXctHube4reS",
        "colab_type": "text"
      },
      "cell_type": "markdown",
      "source": [
        "###with logisitc regression"
      ]
    },
    {
      "metadata": {
        "id": "4_SPo1s6xCRF",
        "colab_type": "code",
        "outputId": "4419b7e3-29aa-46ae-90a6-8d51a3fdb4c7",
        "colab": {
          "base_uri": "https://localhost:8080/",
          "height": 110
        }
      },
      "cell_type": "code",
      "source": [
        "classifier_logit = LogisticRegression()\n",
        "classifier_logit.fit(X_train_PCA, y_train_PCA)\n",
        "\n",
        "\n",
        "# Predicting the Test set results\n",
        "y_pred_logit = classifier_logit.predict(X_test_PCA)   "
      ],
      "execution_count": 0,
      "outputs": [
        {
          "output_type": "stream",
          "text": [
            "/usr/local/lib/python3.6/dist-packages/sklearn/linear_model/logistic.py:433: FutureWarning: Default solver will be changed to 'lbfgs' in 0.22. Specify a solver to silence this warning.\n",
            "  FutureWarning)\n",
            "/usr/local/lib/python3.6/dist-packages/sklearn/linear_model/logistic.py:460: FutureWarning: Default multi_class will be changed to 'auto' in 0.22. Specify the multi_class option to silence this warning.\n",
            "  \"this warning.\", FutureWarning)\n"
          ],
          "name": "stderr"
        }
      ]
    },
    {
      "metadata": {
        "id": "UZVNd2Ms4u-h",
        "colab_type": "text"
      },
      "cell_type": "markdown",
      "source": [
        "###with SVM"
      ]
    },
    {
      "metadata": {
        "id": "ZrS82k-A4xHq",
        "colab_type": "code",
        "colab": {}
      },
      "cell_type": "code",
      "source": [
        "classifier_svm = svm.SVC()\n",
        "classifier_svm.fit(X_train_PCA, y_train_PCA)\n",
        "\n",
        "\n",
        "# Predicting the Test set results\n",
        "y_pred_svm = classifier_svm.predict(X_test_PCA)  "
      ],
      "execution_count": 0,
      "outputs": []
    },
    {
      "metadata": {
        "id": "Riu_AfiX4HVT",
        "colab_type": "text"
      },
      "cell_type": "markdown",
      "source": [
        "## Results in accuracy measure"
      ]
    },
    {
      "metadata": {
        "id": "q-XYheE4xVMg",
        "colab_type": "code",
        "outputId": "370d6258-6b5f-45f6-9f0a-d128bd08928f",
        "colab": {
          "base_uri": "https://localhost:8080/",
          "height": 217
        }
      },
      "cell_type": "code",
      "source": [
        "import sklearn as skl\n",
        "from sklearn import metrics\n",
        "from sklearn.metrics import accuracy_score\n",
        "\n",
        "cm_logit = skl.metrics.confusion_matrix(y_test_PCA, y_pred_logit)  \n",
        "print(cm_logit)  \n",
        "skl.metrics.accuracy_score(y_test_PCA, y_pred_logit)"
      ],
      "execution_count": 0,
      "outputs": [
        {
          "output_type": "stream",
          "text": [
            "[[261  74  93  46  50  54  49 102 206  65]\n",
            " [ 40 189  55  82  38  32 131 124 149 160]\n",
            " [131  78 174  62 163  67 119 108  56  42]\n",
            " [111 122  54 105  85 144 149 101  65  64]\n",
            " [ 76  68 144  83 210  68 148  97  36  70]\n",
            " [121  76  79  95  80 225 103 108  72  41]\n",
            " [ 67 120  94  82 155  79 155 167  28  53]\n",
            " [ 73 119  63  61 106  99 132  93 102 152]\n",
            " [139 116  44  38  20  55  45  88 321 134]\n",
            " [ 55 157  35  42  27  32 102 111 152 287]]\n"
          ],
          "name": "stdout"
        },
        {
          "output_type": "execute_result",
          "data": {
            "text/plain": [
              "0.202"
            ]
          },
          "metadata": {
            "tags": []
          },
          "execution_count": 165
        }
      ]
    },
    {
      "metadata": {
        "id": "2Wo5lA0X9YAx",
        "colab_type": "text"
      },
      "cell_type": "markdown",
      "source": [
        "With the logistic regression classifier I have an accuracy of 20%"
      ]
    },
    {
      "metadata": {
        "id": "QGiBkiHOAbNT",
        "colab_type": "code",
        "outputId": "73c39dca-e995-48e9-e4dd-97b6d004db48",
        "colab": {
          "base_uri": "https://localhost:8080/",
          "height": 208
        }
      },
      "cell_type": "code",
      "source": [
        "cm_svm = skl.metrics.confusion_matrix(y_test_PCA, y_pred_svm)  \n",
        "print(cm_svm)  \n",
        "skl.metrics.accuracy_score(y_test_PCA, y_pred_svm)"
      ],
      "execution_count": 0,
      "outputs": [
        {
          "output_type": "error",
          "ename": "NameError",
          "evalue": "ignored",
          "traceback": [
            "\u001b[0;31m---------------------------------------------------------------------------\u001b[0m",
            "\u001b[0;31mNameError\u001b[0m                                 Traceback (most recent call last)",
            "\u001b[0;32m<ipython-input-1-b1cd594423dc>\u001b[0m in \u001b[0;36m<module>\u001b[0;34m()\u001b[0m\n\u001b[0;32m----> 1\u001b[0;31m \u001b[0mcm_svm\u001b[0m \u001b[0;34m=\u001b[0m \u001b[0mskl\u001b[0m\u001b[0;34m.\u001b[0m\u001b[0mmetrics\u001b[0m\u001b[0;34m.\u001b[0m\u001b[0mconfusion_matrix\u001b[0m\u001b[0;34m(\u001b[0m\u001b[0my_test_PCA\u001b[0m\u001b[0;34m,\u001b[0m \u001b[0my_pred_svm\u001b[0m\u001b[0;34m)\u001b[0m\u001b[0;34m\u001b[0m\u001b[0;34m\u001b[0m\u001b[0m\n\u001b[0m\u001b[1;32m      2\u001b[0m \u001b[0mprint\u001b[0m\u001b[0;34m(\u001b[0m\u001b[0mcm_svm\u001b[0m\u001b[0;34m)\u001b[0m\u001b[0;34m\u001b[0m\u001b[0;34m\u001b[0m\u001b[0m\n\u001b[1;32m      3\u001b[0m \u001b[0mskl\u001b[0m\u001b[0;34m.\u001b[0m\u001b[0mmetrics\u001b[0m\u001b[0;34m.\u001b[0m\u001b[0maccuracy_score\u001b[0m\u001b[0;34m(\u001b[0m\u001b[0my_test_PCA\u001b[0m\u001b[0;34m,\u001b[0m \u001b[0my_pred_svm\u001b[0m\u001b[0;34m)\u001b[0m\u001b[0;34m\u001b[0m\u001b[0;34m\u001b[0m\u001b[0m\n",
            "\u001b[0;31mNameError\u001b[0m: name 'skl' is not defined"
          ]
        }
      ]
    },
    {
      "metadata": {
        "id": "1rll4TnPqsQs",
        "colab_type": "text"
      },
      "cell_type": "markdown",
      "source": [
        "#Using KNN\n"
      ]
    },
    {
      "metadata": {
        "id": "82-uREA630Wn",
        "colab_type": "text"
      },
      "cell_type": "markdown",
      "source": [
        "The idea of KNN algorithm is to find, for each unlabeled data, its k nearest neighbors in the labeled dataset and then label the new data by taking the most recurent label in the neigbhors\n"
      ]
    },
    {
      "metadata": {
        "id": "zWkyYfbgqw69",
        "colab_type": "text"
      },
      "cell_type": "markdown",
      "source": [
        "## data prep"
      ]
    },
    {
      "metadata": {
        "id": "DmQDtpsc4zTa",
        "colab_type": "text"
      },
      "cell_type": "markdown",
      "source": [
        "Here, i use a file where the data are already organised in batches"
      ]
    },
    {
      "metadata": {
        "id": "owTH3TkChTHW",
        "colab_type": "code",
        "outputId": "2fec09ba-0b16-4b94-8665-8e4978ddbdef",
        "colab": {
          "base_uri": "https://localhost:8080/",
          "height": 35
        }
      },
      "cell_type": "code",
      "source": [
        "!ls \"drive/My Drive/Colab Notebooks\"\t"
      ],
      "execution_count": 0,
      "outputs": [
        {
          "output_type": "stream",
          "text": [
            "ls: cannot access 'drive/My Drive/Colab Notebooks': No such file or directory\n"
          ],
          "name": "stdout"
        }
      ]
    },
    {
      "metadata": {
        "id": "9jNvyc0orxYY",
        "colab_type": "code",
        "colab": {}
      },
      "cell_type": "code",
      "source": [
        "def unpickle(file):\n",
        "    import pickle\n",
        "    with open(file, 'rb') as fo:\n",
        "        dict = pickle.load(fo, encoding='bytes')\n",
        "    return dict"
      ],
      "execution_count": 0,
      "outputs": []
    },
    {
      "metadata": {
        "id": "_X1DrPFvr3-v",
        "colab_type": "code",
        "colab": {}
      },
      "cell_type": "code",
      "source": [
        "# defining the K as in K-Nearest Neighbors\n",
        "k=8\n",
        "\n",
        "# length of test batch\n",
        "len_test=100"
      ],
      "execution_count": 0,
      "outputs": []
    },
    {
      "metadata": {
        "id": "vfDeJ78rwhJ9",
        "colab_type": "code",
        "colab": {}
      },
      "cell_type": "code",
      "source": [
        "test=unpickle(\"drive/My Drive/Colab Notebooks/cifar-10-python/cifar-10-batches-py/test_batch\")\n",
        "i=1\n",
        "batch1=unpickle(\"drive/My Drive/Colab Notebooks/cifar-10-python/cifar-10-batches-py/data_batch_\"+str(i))"
      ],
      "execution_count": 0,
      "outputs": []
    },
    {
      "metadata": {
        "id": "tBINTjIHkJzx",
        "colab_type": "text"
      },
      "cell_type": "markdown",
      "source": [
        "we use the unpicke function define in the CIFAR 10 documentation. test is a dicionary "
      ]
    },
    {
      "metadata": {
        "id": "ry53VVXBmAp_",
        "colab_type": "code",
        "outputId": "dfac5344-0424-438b-abba-e96b9d627f67",
        "colab": {
          "base_uri": "https://localhost:8080/",
          "height": 35
        }
      },
      "cell_type": "code",
      "source": [
        "test.keys()"
      ],
      "execution_count": 83,
      "outputs": [
        {
          "output_type": "execute_result",
          "data": {
            "text/plain": [
              "dict_keys([b'batch_label', b'labels', b'data', b'filenames'])"
            ]
          },
          "metadata": {
            "tags": []
          },
          "execution_count": 83
        }
      ]
    },
    {
      "metadata": {
        "id": "ybAgQ0LelA1M",
        "colab_type": "code",
        "colab": {}
      },
      "cell_type": "code",
      "source": [
        "# reading the test data and labels in seperate variables\n",
        "test_data=test[b'data'][0:len_test]\n",
        "test_labels=test[b'labels'][0:len_test]\n"
      ],
      "execution_count": 0,
      "outputs": []
    },
    {
      "metadata": {
        "id": "W9Jv2l0q87P2",
        "colab_type": "text"
      },
      "cell_type": "markdown",
      "source": [
        "## functions"
      ]
    },
    {
      "metadata": {
        "id": "PBDvlUFZ89fK",
        "colab_type": "code",
        "colab": {}
      },
      "cell_type": "code",
      "source": [
        "# Euclidean distance\n",
        "def euclidianDistance(x, y):\n",
        "  return np.sqrt(np.sum(np.square(x-y)))"
      ],
      "execution_count": 0,
      "outputs": []
    },
    {
      "metadata": {
        "id": "gofX3z4T9HaV",
        "colab_type": "code",
        "outputId": "76e353a5-720f-4e7a-9394-aafc17d09bfe",
        "colab": {
          "base_uri": "https://localhost:8080/",
          "height": 35
        }
      },
      "cell_type": "code",
      "source": [
        "# find the k minimal values\n",
        "def k_mins(x,k):\n",
        "  minis=[]\n",
        "  for i in range (0,k):\n",
        "    m=max(x)\n",
        "   \n",
        "    for j in range (0,len(x)):\n",
        "      if x[j]<m:\n",
        "        m=x[j]\n",
        "        \n",
        "    minis.append(m)\n",
        "    x.remove(m)\n",
        "  return minis\n",
        "  \n",
        "\n",
        "a=[0,2,6,4,0,7]\n",
        "\n",
        "minis=k_mins(a,3)\n",
        "minis"
      ],
      "execution_count": 87,
      "outputs": [
        {
          "output_type": "execute_result",
          "data": {
            "text/plain": [
              "[0, 0, 2]"
            ]
          },
          "metadata": {
            "tags": []
          },
          "execution_count": 87
        }
      ]
    },
    {
      "metadata": {
        "id": "yRo0Wh79FJAp",
        "colab_type": "code",
        "outputId": "6b8eb0c6-45e0-46aa-ac90-59265cecfd2f",
        "colab": {
          "base_uri": "https://localhost:8080/",
          "height": 35
        }
      },
      "cell_type": "code",
      "source": [
        "def add_distance(distance, label, liste,k):\n",
        "  \n",
        "  # return a list of form [[\"distance1\", \"label1\"],...,[\"distancek\", \"labelk\"]]\n",
        " \n",
        "  \n",
        "  if len(liste)<k:\n",
        "    liste.append([distance,label])\n",
        "    \n",
        "  else:\n",
        "    # list of distances\n",
        "    dist=[row[0] for row in liste]\n",
        "    # index of max\n",
        "    i=dist.index(max(dist))\n",
        "    \n",
        "    if distance < max(dist):\n",
        "      liste.remove(liste[i])\n",
        "      liste.append([distance,label])\n",
        "   \n",
        " \n",
        "  return liste\n",
        "    \n",
        "a=[[2, 4],[6, 3], [1, 5],[2, 5]]\n",
        "add_distance(8, 1, a,5)"
      ],
      "execution_count": 88,
      "outputs": [
        {
          "output_type": "execute_result",
          "data": {
            "text/plain": [
              "[[2, 4], [6, 3], [1, 5], [2, 5], [8, 1]]"
            ]
          },
          "metadata": {
            "tags": []
          },
          "execution_count": 88
        }
      ]
    },
    {
      "metadata": {
        "id": "dA_Vpz5tN60w",
        "colab_type": "code",
        "colab": {}
      },
      "cell_type": "code",
      "source": [
        "def most_recurent_label(min_dist):\n",
        "  k_labels= [0]*10\n",
        "  \n",
        "  #liste of labels\n",
        "  labels=[row[1] for row in min_dist]\n",
        "  for i in range (len(labels)):\n",
        "    for j in range (0,10):\n",
        "      if(labels[i]==j):\n",
        "        k_labels[j]=k_labels[j]+1\n",
        "        \n",
        "  lab=k_labels.index(max(k_labels))\n",
        "      \n",
        "  return(lab)\n"
      ],
      "execution_count": 0,
      "outputs": []
    },
    {
      "metadata": {
        "id": "4e6BeAjdSWdZ",
        "colab_type": "code",
        "outputId": "f0074e11-f9fb-4e02-cecf-1e9b1c4e7917",
        "colab": {
          "base_uri": "https://localhost:8080/",
          "height": 35
        }
      },
      "cell_type": "code",
      "source": [
        "a=[[2, 4], [6, 3], [1, 5], [2, 5], [8, 1]]\n",
        "a=np.array(a)\n",
        "a.shape\n",
        "l=most_recurent_label(a)\n",
        "print(l)"
      ],
      "execution_count": 0,
      "outputs": [
        {
          "output_type": "stream",
          "text": [
            "5\n"
          ],
          "name": "stdout"
        }
      ]
    },
    {
      "metadata": {
        "id": "GtUmNWTNT_gT",
        "colab_type": "code",
        "colab": {}
      },
      "cell_type": "code",
      "source": [
        "def most_recurent_element(labels):\n",
        "  k_labels= [0]*10\n",
        "  \n",
        "  for i in range (len(labels)):\n",
        "    for j in range (0,10):\n",
        "      if(labels[i]==j):\n",
        "        k_labels[j]=k_labels[j]+1\n",
        "        \n",
        "  lab=k_labels.index(max(k_labels))\n",
        "      \n",
        "  return(lab)\n"
      ],
      "execution_count": 0,
      "outputs": []
    },
    {
      "metadata": {
        "id": "79lhDknchssw",
        "colab_type": "code",
        "outputId": "c2137831-c6b3-44d6-ffba-3af3a9264031",
        "colab": {
          "base_uri": "https://localhost:8080/",
          "height": 35
        }
      },
      "cell_type": "code",
      "source": [
        "k_labels=[1,3,9,8,9,0]\n",
        "print(k_labels.index(max(k_labels)))"
      ],
      "execution_count": 0,
      "outputs": [
        {
          "output_type": "stream",
          "text": [
            "2\n"
          ],
          "name": "stdout"
        }
      ]
    },
    {
      "metadata": {
        "id": "r_JuK6v14tlM",
        "colab_type": "text"
      },
      "cell_type": "markdown",
      "source": [
        "## implementation"
      ]
    },
    {
      "metadata": {
        "id": "lGOFn7o-Pu31",
        "colab_type": "code",
        "outputId": "8d084379-64fd-4265-a205-4530507c31e2",
        "colab": {
          "base_uri": "https://localhost:8080/",
          "height": 35
        }
      },
      "cell_type": "code",
      "source": [
        "knn_labels=[0]*(len_test)\n",
        "\n",
        "len(knn_labels)"
      ],
      "execution_count": 90,
      "outputs": [
        {
          "output_type": "execute_result",
          "data": {
            "text/plain": [
              "100"
            ]
          },
          "metadata": {
            "tags": []
          },
          "execution_count": 90
        }
      ]
    },
    {
      "metadata": {
        "id": "Dh2pXYxv5pDh",
        "colab_type": "code",
        "colab": {}
      },
      "cell_type": "code",
      "source": [
        "\n",
        "def KNN(k):\n",
        "\n",
        "  #loop through the data to be labeled\n",
        "  for x in range(0,len_test):\n",
        "    print(x)\n",
        "    k_min_distance_x=[]\n",
        " \n",
        "  \n",
        "    #loop through the batched contening labeled data\n",
        "    for i in range(1,6):\n",
        "    \n",
        "      min_distance_batch_i=[]\n",
        "      batch_i=unpickle(\"drive/My Drive/Colab Notebooks/cifar-10-python/cifar-10-batches-py/data_batch_\"+str(i))\n",
        "      batch_i_data=batch_i[b'data']\n",
        "      batch_i_labels=batch_i[b'labels']\n",
        "    \n",
        "      #loop through the labeled data\n",
        "      for j in range(0,len(batch_i_data)):\n",
        "        #calculate the euclidian distance between the data to label and the data of the batch\n",
        "        distance=euclidianDistance(test_data[x], batch_i_data[j])\n",
        "      \n",
        "        #verify if the distance is in the k lowest and add (distance, data) if it is the case\n",
        "        add_distance(distance,batch_i_labels[j], k_min_distance_x,k)\n",
        "      \n",
        "      # end loop through the labeled data\n",
        "    \n",
        "    \n",
        "    #end loop through the labeled data\n",
        "    knn_labels[x]=most_recurent_label(k_min_distance_x)\n",
        "   \n",
        "  return(knn_labels)  \n",
        "    \n",
        "      \n",
        "      "
      ],
      "execution_count": 0,
      "outputs": []
    },
    {
      "metadata": {
        "id": "Yw5F1JG0nQRB",
        "colab_type": "text"
      },
      "cell_type": "markdown",
      "source": [
        "## accuracy"
      ]
    },
    {
      "metadata": {
        "id": "z8RsTAHknTMj",
        "colab_type": "code",
        "outputId": "cd92ee4d-1897-48b0-8e34-b156d1fbaef7",
        "colab": {
          "base_uri": "https://localhost:8080/",
          "height": 35
        }
      },
      "cell_type": "code",
      "source": [
        "acc=0\n",
        "for i in range(0,len_test):\n",
        "  if(knn_labels[i]==test_labels[i]):\n",
        "    acc=acc+1\n",
        "acc=acc/len_test*100\n",
        "\n",
        "acc\n"
      ],
      "execution_count": 0,
      "outputs": [
        {
          "output_type": "execute_result",
          "data": {
            "text/plain": [
              "26.0"
            ]
          },
          "metadata": {
            "tags": []
          },
          "execution_count": 300
        }
      ]
    },
    {
      "metadata": {
        "id": "lOOPQOktovYh",
        "colab_type": "code",
        "colab": {}
      },
      "cell_type": "code",
      "source": [
        "# initializing correctly predicted counts for all labels\n",
        "\n",
        "\n",
        "def give_accuracy(knn_labels):\n",
        "  correct=[0,0,0,0,0,0,0,0,0,0]\n",
        "  wrong=[0,0,0,0,0,0,0,0,0,0]\n",
        "  # for every predicted label comparing it with the true label\n",
        "  for i in range(0,len(knn_labels)):\n",
        "    pair=([knn_labels[i],test_labels[i]])\n",
        "    if int(knn_labels[i]) == test_labels[i]:\n",
        "      #counting the correctly predicted lables\n",
        "      correct[test_labels[i]]+=1\n",
        "  \n",
        "    else:\n",
        "      #counting the wrongly predicted labels\n",
        "      wrong[test_labels[i]]+=1\n",
        "    \n",
        "    \n",
        "  accuracy=sum(correct)/len_test*100\n",
        "  return(accuracy)\n",
        "\n",
        "\n",
        "\n",
        "\n",
        "\n"
      ],
      "execution_count": 0,
      "outputs": []
    },
    {
      "metadata": {
        "id": "ddyWfbF7o1cM",
        "colab_type": "code",
        "outputId": "9261233d-328a-4527-d43d-86d519fdee17",
        "colab": {
          "base_uri": "https://localhost:8080/",
          "height": 3745
        }
      },
      "cell_type": "code",
      "source": [
        "list_k=a = range(10,200,5)\n",
        "accuracy_list=[0]*len(list_k)\n",
        "\n",
        "for i in range (0,len(list_k)):\n",
        "  labels=KNN(list_k[i])\n",
        "  accuracy_list[i]=give_accuracy(labels)\n",
        "  \n",
        "plot(list_k, accuracy_list)"
      ],
      "execution_count": 0,
      "outputs": [
        {
          "output_type": "stream",
          "text": [
            "0\n",
            "1\n",
            "2\n",
            "3\n",
            "4\n",
            "5\n",
            "6\n",
            "7\n",
            "8\n",
            "9\n",
            "10\n",
            "11\n",
            "12\n",
            "13\n",
            "14\n",
            "15\n",
            "16\n",
            "17\n",
            "18\n",
            "19\n",
            "20\n",
            "21\n",
            "22\n",
            "23\n",
            "24\n",
            "25\n",
            "26\n",
            "27\n",
            "28\n",
            "29\n",
            "30\n",
            "31\n",
            "32\n",
            "33\n",
            "34\n",
            "35\n",
            "36\n",
            "37\n",
            "38\n",
            "39\n",
            "40\n",
            "41\n",
            "42\n",
            "43\n",
            "44\n",
            "45\n",
            "46\n",
            "47\n",
            "48\n",
            "49\n",
            "50\n",
            "51\n",
            "52\n",
            "53\n",
            "54\n",
            "55\n",
            "56\n",
            "57\n",
            "58\n",
            "59\n",
            "60\n",
            "61\n",
            "62\n",
            "63\n",
            "64\n",
            "65\n",
            "66\n",
            "67\n",
            "68\n",
            "69\n",
            "70\n",
            "71\n",
            "72\n",
            "73\n",
            "74\n",
            "75\n",
            "76\n",
            "77\n",
            "78\n",
            "79\n",
            "80\n",
            "81\n",
            "82\n",
            "83\n",
            "84\n",
            "85\n",
            "86\n",
            "87\n",
            "88\n",
            "89\n",
            "90\n",
            "91\n",
            "92\n",
            "93\n",
            "94\n",
            "95\n",
            "96\n",
            "97\n",
            "98\n",
            "99\n",
            "0\n",
            "1\n",
            "2\n",
            "3\n",
            "4\n",
            "5\n",
            "6\n",
            "7\n",
            "8\n",
            "9\n",
            "10\n",
            "11\n",
            "12\n",
            "13\n",
            "14\n",
            "15\n",
            "16\n",
            "17\n",
            "18\n",
            "19\n",
            "20\n",
            "21\n",
            "22\n",
            "23\n",
            "24\n",
            "25\n",
            "26\n",
            "27\n",
            "28\n",
            "29\n",
            "30\n",
            "31\n",
            "32\n",
            "33\n",
            "34\n",
            "35\n",
            "36\n",
            "37\n",
            "38\n",
            "39\n",
            "40\n",
            "41\n",
            "42\n",
            "43\n",
            "44\n",
            "45\n",
            "46\n",
            "47\n",
            "48\n",
            "49\n",
            "50\n",
            "51\n",
            "52\n",
            "53\n",
            "54\n",
            "55\n",
            "56\n",
            "57\n",
            "58\n",
            "59\n",
            "60\n",
            "61\n",
            "62\n",
            "63\n",
            "64\n",
            "65\n",
            "66\n",
            "67\n",
            "68\n",
            "69\n",
            "70\n",
            "71\n",
            "72\n",
            "73\n",
            "74\n",
            "75\n",
            "76\n",
            "77\n",
            "78\n",
            "79\n",
            "80\n",
            "81\n",
            "82\n",
            "83\n",
            "84\n",
            "85\n",
            "86\n",
            "87\n",
            "88\n",
            "89\n",
            "90\n",
            "91\n",
            "92\n",
            "93\n",
            "94\n",
            "95\n",
            "96\n",
            "97\n",
            "98\n",
            "99\n",
            "0\n",
            "1\n",
            "2\n"
          ],
          "name": "stdout"
        }
      ]
    },
    {
      "metadata": {
        "id": "yH5L26e575BO",
        "colab_type": "text"
      },
      "cell_type": "markdown",
      "source": [
        "The maximum accuracy is 26%"
      ]
    },
    {
      "metadata": {
        "id": "CmAFYcNPbGuH",
        "colab_type": "text"
      },
      "cell_type": "markdown",
      "source": [
        "# Generate images"
      ]
    },
    {
      "metadata": {
        "id": "77b4r1Rlxw1f",
        "colab_type": "code",
        "colab": {}
      },
      "cell_type": "code",
      "source": [
        "from keras.datasets import cifar10\n",
        "\n",
        "(x_train, y_train), (x_test, y_test) = cifar10.load_data()"
      ],
      "execution_count": 0,
      "outputs": []
    },
    {
      "metadata": {
        "id": "VrEtSAWRkzZb",
        "colab_type": "code",
        "colab": {}
      },
      "cell_type": "code",
      "source": [
        "def get_class(classe,y_train,x_train):\n",
        "  images=[]\n",
        "  for i in range(0,len(y_train)):\n",
        "    if(y_train[i]==classe):\n",
        "      images.append(x_train[i])\n",
        "  return (np.asarray(images),np.asarray([classe]*len(images)))\n",
        "   "
      ],
      "execution_count": 0,
      "outputs": []
    },
    {
      "metadata": {
        "id": "2pgFTAHmn_bK",
        "colab_type": "code",
        "outputId": "57808839-d98f-49f0-9575-241debfafe8d",
        "colab": {
          "base_uri": "https://localhost:8080/",
          "height": 35
        }
      },
      "cell_type": "code",
      "source": [
        "if(y_train[0]==6):\n",
        "  print(\"ok\")"
      ],
      "execution_count": 68,
      "outputs": [
        {
          "output_type": "stream",
          "text": [
            "ok\n"
          ],
          "name": "stdout"
        }
      ]
    },
    {
      "metadata": {
        "id": "AjzNLGChlztp",
        "colab_type": "text"
      },
      "cell_type": "markdown",
      "source": [
        "### Define generator and discriminator"
      ]
    },
    {
      "metadata": {
        "id": "tuidVkwCbLLY",
        "colab_type": "code",
        "colab": {
          "base_uri": "https://localhost:8080/",
          "height": 256
        },
        "outputId": "fbf4a4cf-743d-468e-f918-c46019414eda"
      },
      "cell_type": "code",
      "source": [
        "tensorboard = TensorBoard(log_dir='./tboard') \n",
        "\n",
        "generator = Sequential()\n",
        "generator.add(Dense(7*7*128, input_shape=(10,)))\n",
        "generator.add(LeakyReLU(0.1))\n",
        "generator.add(Reshape((7,7,128)))\n",
        "generator.add(UpSampling2D(size=(2,2)))\n",
        "generator.add(Conv2DTranspose(64, kernel_size=(3,3)))\n",
        "generator.add(UpSampling2D(size=(2,2)))\n",
        "generator.add(Conv2DTranspose(3, kernel_size=(1,1)))\n",
        "\n",
        "\n",
        "generator.add(Reshape((32,32,3)))\n",
        "\n",
        "\n",
        "\n",
        "discriminator=Sequential()\n",
        "\n",
        "discriminator.add(Flatten(input_shape=(32,32,3)))\n",
        "discriminator.add(Dense(512))\n",
        "discriminator.add(Activation('relu'))\n",
        "discriminator.add(Dropout(0.1)) \t\t\t\n",
        "discriminator.add(Dense(64))\n",
        "discriminator.add(Activation('relu'))\n",
        "discriminator.add(Dropout(0.1))\n",
        "discriminator.add(Dense(1))\n",
        "discriminator.add(Activation('sigmoid'))\n",
        "\n",
        "\n",
        "discriminator.compile(loss='binary_crossentropy', optimizer=Adam(1e-4,1e-5))\n",
        "discriminator.trainable=False\n",
        "\n",
        "gan_input=Input(shape=(10,))\n",
        "fake_image=generator(gan_input)\n",
        "gan_output=discriminator(fake_image)\n",
        "gan=Model(gan_input, gan_output)\n",
        "gan.compile(loss='binary_crossentropy', optimizer=Adam(1e-4,1e-5))\n",
        "gan.summary()\n"
      ],
      "execution_count": 69,
      "outputs": [
        {
          "output_type": "stream",
          "text": [
            "_________________________________________________________________\n",
            "Layer (type)                 Output Shape              Param #   \n",
            "=================================================================\n",
            "input_1 (InputLayer)         (None, 10)                0         \n",
            "_________________________________________________________________\n",
            "sequential_1 (Sequential)    (None, 32, 32, 3)         142979    \n",
            "_________________________________________________________________\n",
            "sequential_2 (Sequential)    (None, 1)                 1606273   \n",
            "=================================================================\n",
            "Total params: 1,749,252\n",
            "Trainable params: 142,979\n",
            "Non-trainable params: 1,606,273\n",
            "_________________________________________________________________\n"
          ],
          "name": "stdout"
        }
      ]
    },
    {
      "metadata": {
        "id": "Pya7KZqbl6i7",
        "colab_type": "text"
      },
      "cell_type": "markdown",
      "source": [
        "### train algo"
      ]
    },
    {
      "metadata": {
        "id": "IkRSq48hlx1K",
        "colab_type": "code",
        "colab": {
          "base_uri": "https://localhost:8080/",
          "height": 1505
        },
        "outputId": "f0c729e5-a9c6-46cd-da6a-7087db3b9f0f"
      },
      "cell_type": "code",
      "source": [
        "batch_size=16\n",
        "classe=8\n",
        "#x_train_gan,y_train_gan=get_class(classe,y_train,x_train)\n",
        "x_train_gan=x_train[np.where(y_train == classe)[0]] #choix de la classe \n",
        "print(x_train_gan.shape)\n",
        "num_batches= int(len(x_train_gan) / batch_size)\n",
        "\n",
        "\n",
        "for epoch in range(80):\n",
        "\tfor batch in range (num_batches):\n",
        "\t\t#  Select  a  random   batch   from   x train c\n",
        "\t\tx=x_train_gan[np.random.randint(0, len(x_train_gan), size=batch_size)]\n",
        "\t\t# Gaussian  noise  for the  generator  mode\n",
        "\t\tnoise=np.random.normal(0,1,size=[batch_size,10])\n",
        "\t\t#Generate  fake  images\n",
        "\t\tgen_imgs=generator.predict(noise)\n",
        "\t\t\n",
        "\t\tdisc_data=np.concatenate([x, gen_imgs])\n",
        "\t\t# True images are labeled 1 ,false ones are 0\n",
        "\t\tlabels = [1]*batch_size + [0]*batch_size\n",
        "\t\t\n",
        "\t\tdiscriminator.trainable=True\n",
        "\t\tdloss=discriminator.train_on_batch(disc_data, labels)  \n",
        "\t\t\n",
        "\t\tdiscriminator.trainable=False\n",
        "\t\tgloss=gan.train_on_batch(noise, [1]*batch_size)\n",
        "\t\t\n",
        "\n",
        "\tprint('Epoch %d' %(epoch+1)+' gloss=%.4f, dloss=%4.f' %(gloss, dloss))\n",
        "\t\t\n",
        "\n",
        "\t\t\t\t\n",
        "\n"
      ],
      "execution_count": 70,
      "outputs": [
        {
          "output_type": "stream",
          "text": [
            "(5000, 32, 32, 3)\n",
            "Epoch 1 gloss=0.2537, dloss=   1\n",
            "Epoch 2 gloss=0.6352, dloss=   0\n",
            "Epoch 3 gloss=0.6722, dloss=   0\n",
            "Epoch 4 gloss=0.6769, dloss=   0\n",
            "Epoch 5 gloss=0.6550, dloss=   0\n",
            "Epoch 6 gloss=0.7067, dloss=   0\n",
            "Epoch 7 gloss=0.6617, dloss=   0\n",
            "Epoch 8 gloss=0.6638, dloss=   0\n",
            "Epoch 9 gloss=0.6535, dloss=   0\n",
            "Epoch 10 gloss=0.6500, dloss=   0\n",
            "Epoch 11 gloss=0.6668, dloss=   0\n",
            "Epoch 12 gloss=0.5465, dloss=   1\n",
            "Epoch 13 gloss=0.6773, dloss=   1\n",
            "Epoch 14 gloss=0.4288, dloss=   1\n",
            "Epoch 15 gloss=0.8244, dloss=   1\n",
            "Epoch 16 gloss=0.5047, dloss=   1\n",
            "Epoch 17 gloss=0.9171, dloss=   1\n",
            "Epoch 18 gloss=0.7716, dloss=   1\n",
            "Epoch 19 gloss=0.7298, dloss=   0\n",
            "Epoch 20 gloss=0.7320, dloss=   0\n",
            "Epoch 21 gloss=0.9458, dloss=   1\n",
            "Epoch 22 gloss=0.2443, dloss=   1\n",
            "Epoch 23 gloss=0.7233, dloss=   1\n",
            "Epoch 24 gloss=0.9795, dloss=   1\n",
            "Epoch 25 gloss=1.0047, dloss=   0\n",
            "Epoch 26 gloss=0.9457, dloss=   0\n",
            "Epoch 27 gloss=1.2523, dloss=   0\n",
            "Epoch 28 gloss=1.1401, dloss=   1\n",
            "Epoch 29 gloss=0.8617, dloss=   0\n",
            "Epoch 30 gloss=1.3747, dloss=   0\n",
            "Epoch 31 gloss=1.1450, dloss=   0\n",
            "Epoch 32 gloss=1.1585, dloss=   0\n",
            "Epoch 33 gloss=1.1039, dloss=   0\n",
            "Epoch 34 gloss=0.7751, dloss=   0\n",
            "Epoch 35 gloss=0.8758, dloss=   0\n",
            "Epoch 36 gloss=1.1221, dloss=   0\n",
            "Epoch 37 gloss=1.1637, dloss=   0\n",
            "Epoch 38 gloss=1.3795, dloss=   0\n",
            "Epoch 39 gloss=1.2608, dloss=   0\n",
            "Epoch 40 gloss=0.9380, dloss=   0\n",
            "Epoch 41 gloss=1.3618, dloss=   1\n",
            "Epoch 42 gloss=1.2128, dloss=   0\n",
            "Epoch 43 gloss=1.1179, dloss=   0\n",
            "Epoch 44 gloss=0.9680, dloss=   0\n",
            "Epoch 45 gloss=0.8604, dloss=   0\n",
            "Epoch 46 gloss=1.4026, dloss=   0\n",
            "Epoch 47 gloss=1.2701, dloss=   0\n",
            "Epoch 48 gloss=1.3910, dloss=   0\n",
            "Epoch 49 gloss=1.0951, dloss=   0\n",
            "Epoch 50 gloss=1.6003, dloss=   0\n",
            "Epoch 51 gloss=1.5546, dloss=   0\n",
            "Epoch 52 gloss=1.5166, dloss=   0\n",
            "Epoch 53 gloss=0.8257, dloss=   0\n",
            "Epoch 54 gloss=1.5394, dloss=   0\n",
            "Epoch 55 gloss=1.5215, dloss=   0\n",
            "Epoch 56 gloss=1.2241, dloss=   0\n",
            "Epoch 57 gloss=1.4469, dloss=   0\n",
            "Epoch 58 gloss=1.5726, dloss=   0\n",
            "Epoch 59 gloss=1.3367, dloss=   0\n",
            "Epoch 60 gloss=1.7339, dloss=   0\n",
            "Epoch 61 gloss=1.3573, dloss=   0\n",
            "Epoch 62 gloss=1.5544, dloss=   0\n",
            "Epoch 63 gloss=1.4817, dloss=   0\n",
            "Epoch 64 gloss=1.5548, dloss=   0\n",
            "Epoch 65 gloss=1.8122, dloss=   0\n",
            "Epoch 66 gloss=1.3116, dloss=   0\n",
            "Epoch 67 gloss=1.6934, dloss=   0\n",
            "Epoch 68 gloss=1.6755, dloss=   0\n",
            "Epoch 69 gloss=1.6741, dloss=   0\n",
            "Epoch 70 gloss=1.4392, dloss=   0\n",
            "Epoch 71 gloss=1.9335, dloss=   0\n",
            "Epoch 72 gloss=1.0738, dloss=   0\n",
            "Epoch 73 gloss=1.7303, dloss=   0\n",
            "Epoch 74 gloss=1.8086, dloss=   0\n",
            "Epoch 75 gloss=1.8501, dloss=   0\n",
            "Epoch 76 gloss=1.5738, dloss=   0\n",
            "Epoch 77 gloss=1.7439, dloss=   0\n",
            "Epoch 78 gloss=2.3272, dloss=   1\n",
            "Epoch 79 gloss=1.9580, dloss=   0\n",
            "Epoch 80 gloss=1.9142, dloss=   0\n"
          ],
          "name": "stdout"
        }
      ]
    },
    {
      "metadata": {
        "id": "nbXi0Y3dl_nm",
        "colab_type": "text"
      },
      "cell_type": "markdown",
      "source": [
        "### implementation\n"
      ]
    },
    {
      "metadata": {
        "id": "f4sRbsOymBPU",
        "colab_type": "code",
        "colab": {}
      },
      "cell_type": "code",
      "source": [
        "\t\t\n",
        "noise=np.random.normal(0,1,size=[4,10])\n",
        "gen_imgs=generator.predict(noise)\n",
        "\n",
        "#plt.imsave('image0.png',((gen_imgs[0]+1)/2))\n",
        "\n",
        "#plt.imsave('image1.png',((gen_imgs[1]+1)/2))\n",
        "#plt.imsave('image2.png',((gen_imgs[2]+1)/2))\n",
        "\n",
        "#plt.imsave('image3.png',((gen_imgs[3]+1)/2))"
      ],
      "execution_count": 0,
      "outputs": []
    },
    {
      "metadata": {
        "id": "8xUaXUBJgaT4",
        "colab_type": "code",
        "outputId": "3c3bad37-2878-45d6-9638-471abb5c26f9",
        "colab": {
          "base_uri": "https://localhost:8080/",
          "height": 35
        }
      },
      "cell_type": "code",
      "source": [
        "#plt.imshow(gen_imgs[0])\n",
        "np.amin(gen_imgs[3])\n",
        "#np.amax(gen_imgs[0])\n",
        "\n",
        "#plt.imshow(gen_imgs[1])"
      ],
      "execution_count": 79,
      "outputs": [
        {
          "output_type": "execute_result",
          "data": {
            "text/plain": [
              "-16.065279"
            ]
          },
          "metadata": {
            "tags": []
          },
          "execution_count": 79
        }
      ]
    }
  ]
}